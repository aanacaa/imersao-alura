{
  "nbformat": 4,
  "nbformat_minor": 0,
  "metadata": {
    "colab": {
      "name": "Imersao-Alura.ipynb",
      "provenance": [],
      "collapsed_sections": [
        "ndoH_m_XYLpE",
        "wUrc1oveLi0d"
      ],
      "authorship_tag": "ABX9TyM03JGRC2wker0dgFK53qa5",
      "include_colab_link": true
    },
    "kernelspec": {
      "name": "python3",
      "display_name": "Python 3"
    }
  },
  "cells": [
    {
      "cell_type": "markdown",
      "metadata": {
        "id": "view-in-github",
        "colab_type": "text"
      },
      "source": [
        "<a href=\"https://colab.research.google.com/github/aanacaa/imersao-alura/blob/master/Imersao_Alura.ipynb\" target=\"_parent\"><img src=\"https://colab.research.google.com/assets/colab-badge.svg\" alt=\"Open In Colab\"/></a>"
      ]
    },
    {
      "cell_type": "markdown",
      "metadata": {
        "id": "ndoH_m_XYLpE"
      },
      "source": [
        "##Aula 1\n",
        "\n"
      ]
    },
    {
      "cell_type": "code",
      "metadata": {
        "id": "pSMK4NMdrtT-",
        "outputId": "e081414a-3448-4d50-a3d6-83b410d3d464",
        "colab": {
          "base_uri": "https://localhost:8080/",
          "height": 251
        }
      },
      "source": [
        "import pandas as pd\n",
        "fonte = \"https://github.com/alura-cursos/imersao-dados-2-2020/blob/master/MICRODADOS_ENEM_2019_SAMPLE_43278.csv?raw=true\"\n",
        "dados= pd.read_csv(fonte)\n",
        "dados.head() #saida no formato dataframe"
      ],
      "execution_count": null,
      "outputs": [
        {
          "output_type": "execute_result",
          "data": {
            "text/html": [
              "<div>\n",
              "<style scoped>\n",
              "    .dataframe tbody tr th:only-of-type {\n",
              "        vertical-align: middle;\n",
              "    }\n",
              "\n",
              "    .dataframe tbody tr th {\n",
              "        vertical-align: top;\n",
              "    }\n",
              "\n",
              "    .dataframe thead th {\n",
              "        text-align: right;\n",
              "    }\n",
              "</style>\n",
              "<table border=\"1\" class=\"dataframe\">\n",
              "  <thead>\n",
              "    <tr style=\"text-align: right;\">\n",
              "      <th></th>\n",
              "      <th>NU_INSCRICAO</th>\n",
              "      <th>NU_ANO</th>\n",
              "      <th>CO_MUNICIPIO_RESIDENCIA</th>\n",
              "      <th>NO_MUNICIPIO_RESIDENCIA</th>\n",
              "      <th>CO_UF_RESIDENCIA</th>\n",
              "      <th>SG_UF_RESIDENCIA</th>\n",
              "      <th>NU_IDADE</th>\n",
              "      <th>TP_SEXO</th>\n",
              "      <th>TP_ESTADO_CIVIL</th>\n",
              "      <th>TP_COR_RACA</th>\n",
              "      <th>TP_NACIONALIDADE</th>\n",
              "      <th>CO_MUNICIPIO_NASCIMENTO</th>\n",
              "      <th>NO_MUNICIPIO_NASCIMENTO</th>\n",
              "      <th>CO_UF_NASCIMENTO</th>\n",
              "      <th>SG_UF_NASCIMENTO</th>\n",
              "      <th>TP_ST_CONCLUSAO</th>\n",
              "      <th>TP_ANO_CONCLUIU</th>\n",
              "      <th>TP_ESCOLA</th>\n",
              "      <th>TP_ENSINO</th>\n",
              "      <th>IN_TREINEIRO</th>\n",
              "      <th>CO_ESCOLA</th>\n",
              "      <th>CO_MUNICIPIO_ESC</th>\n",
              "      <th>NO_MUNICIPIO_ESC</th>\n",
              "      <th>CO_UF_ESC</th>\n",
              "      <th>SG_UF_ESC</th>\n",
              "      <th>TP_DEPENDENCIA_ADM_ESC</th>\n",
              "      <th>TP_LOCALIZACAO_ESC</th>\n",
              "      <th>TP_SIT_FUNC_ESC</th>\n",
              "      <th>IN_BAIXA_VISAO</th>\n",
              "      <th>IN_CEGUEIRA</th>\n",
              "      <th>IN_SURDEZ</th>\n",
              "      <th>IN_DEFICIENCIA_AUDITIVA</th>\n",
              "      <th>IN_SURDO_CEGUEIRA</th>\n",
              "      <th>IN_DEFICIENCIA_FISICA</th>\n",
              "      <th>IN_DEFICIENCIA_MENTAL</th>\n",
              "      <th>IN_DEFICIT_ATENCAO</th>\n",
              "      <th>IN_DISLEXIA</th>\n",
              "      <th>IN_DISCALCULIA</th>\n",
              "      <th>IN_AUTISMO</th>\n",
              "      <th>IN_VISAO_MONOCULAR</th>\n",
              "      <th>...</th>\n",
              "      <th>TX_RESPOSTAS_CH</th>\n",
              "      <th>TX_RESPOSTAS_LC</th>\n",
              "      <th>TX_RESPOSTAS_MT</th>\n",
              "      <th>TP_LINGUA</th>\n",
              "      <th>TX_GABARITO_CN</th>\n",
              "      <th>TX_GABARITO_CH</th>\n",
              "      <th>TX_GABARITO_LC</th>\n",
              "      <th>TX_GABARITO_MT</th>\n",
              "      <th>TP_STATUS_REDACAO</th>\n",
              "      <th>NU_NOTA_COMP1</th>\n",
              "      <th>NU_NOTA_COMP2</th>\n",
              "      <th>NU_NOTA_COMP3</th>\n",
              "      <th>NU_NOTA_COMP4</th>\n",
              "      <th>NU_NOTA_COMP5</th>\n",
              "      <th>NU_NOTA_REDACAO</th>\n",
              "      <th>Q001</th>\n",
              "      <th>Q002</th>\n",
              "      <th>Q003</th>\n",
              "      <th>Q004</th>\n",
              "      <th>Q005</th>\n",
              "      <th>Q006</th>\n",
              "      <th>Q007</th>\n",
              "      <th>Q008</th>\n",
              "      <th>Q009</th>\n",
              "      <th>Q010</th>\n",
              "      <th>Q011</th>\n",
              "      <th>Q012</th>\n",
              "      <th>Q013</th>\n",
              "      <th>Q014</th>\n",
              "      <th>Q015</th>\n",
              "      <th>Q016</th>\n",
              "      <th>Q017</th>\n",
              "      <th>Q018</th>\n",
              "      <th>Q019</th>\n",
              "      <th>Q020</th>\n",
              "      <th>Q021</th>\n",
              "      <th>Q022</th>\n",
              "      <th>Q023</th>\n",
              "      <th>Q024</th>\n",
              "      <th>Q025</th>\n",
              "    </tr>\n",
              "  </thead>\n",
              "  <tbody>\n",
              "    <tr>\n",
              "      <th>0</th>\n",
              "      <td>190001004661</td>\n",
              "      <td>2019</td>\n",
              "      <td>1506138</td>\n",
              "      <td>Redenção</td>\n",
              "      <td>15</td>\n",
              "      <td>PA</td>\n",
              "      <td>17</td>\n",
              "      <td>M</td>\n",
              "      <td>1</td>\n",
              "      <td>3</td>\n",
              "      <td>1</td>\n",
              "      <td>1506138.0</td>\n",
              "      <td>Redenção</td>\n",
              "      <td>15.0</td>\n",
              "      <td>PA</td>\n",
              "      <td>3</td>\n",
              "      <td>0</td>\n",
              "      <td>1</td>\n",
              "      <td>NaN</td>\n",
              "      <td>1</td>\n",
              "      <td>NaN</td>\n",
              "      <td>NaN</td>\n",
              "      <td>NaN</td>\n",
              "      <td>NaN</td>\n",
              "      <td>NaN</td>\n",
              "      <td>NaN</td>\n",
              "      <td>NaN</td>\n",
              "      <td>NaN</td>\n",
              "      <td>0</td>\n",
              "      <td>0</td>\n",
              "      <td>0</td>\n",
              "      <td>0</td>\n",
              "      <td>0</td>\n",
              "      <td>0</td>\n",
              "      <td>0</td>\n",
              "      <td>0</td>\n",
              "      <td>0</td>\n",
              "      <td>0</td>\n",
              "      <td>0</td>\n",
              "      <td>0</td>\n",
              "      <td>...</td>\n",
              "      <td>ACAEAAACABEBABAADCEEEDE*CBDCCCADADCCCBEBBBBDB</td>\n",
              "      <td>99999CCCABBCAADDBCEBCCADBEEBDECBAABDEACACAEABB...</td>\n",
              "      <td>DEEDCAECDDEEECBCBECABEBAECBBCDAECAEBBBBBDCCDB</td>\n",
              "      <td>1</td>\n",
              "      <td>DEADBAAAEBEECEBCBCBCBDADAEABCEDDDDADCBEECACBC</td>\n",
              "      <td>ACACEEBCCBABADBBBACDBBACCCCADCEBADCBEEDBBEADB</td>\n",
              "      <td>EBBADCABDABACBCEBDEEAAADDBECDECDDBADBCDAAECBCC...</td>\n",
              "      <td>AADDDBEEEBEDDBEBACABCDBABECECACAECDCBDCCEDCDA</td>\n",
              "      <td>1.0</td>\n",
              "      <td>60.0</td>\n",
              "      <td>100.0</td>\n",
              "      <td>80.0</td>\n",
              "      <td>80.0</td>\n",
              "      <td>100.0</td>\n",
              "      <td>420.0</td>\n",
              "      <td>B</td>\n",
              "      <td>B</td>\n",
              "      <td>A</td>\n",
              "      <td>A</td>\n",
              "      <td>4</td>\n",
              "      <td>B</td>\n",
              "      <td>A</td>\n",
              "      <td>C</td>\n",
              "      <td>B</td>\n",
              "      <td>A</td>\n",
              "      <td>C</td>\n",
              "      <td>B</td>\n",
              "      <td>A</td>\n",
              "      <td>A</td>\n",
              "      <td>A</td>\n",
              "      <td>A</td>\n",
              "      <td>A</td>\n",
              "      <td>A</td>\n",
              "      <td>A</td>\n",
              "      <td>B</td>\n",
              "      <td>A</td>\n",
              "      <td>C</td>\n",
              "      <td>A</td>\n",
              "      <td>B</td>\n",
              "      <td>B</td>\n",
              "    </tr>\n",
              "    <tr>\n",
              "      <th>1</th>\n",
              "      <td>190001004674</td>\n",
              "      <td>2019</td>\n",
              "      <td>1504208</td>\n",
              "      <td>Marabá</td>\n",
              "      <td>15</td>\n",
              "      <td>PA</td>\n",
              "      <td>23</td>\n",
              "      <td>M</td>\n",
              "      <td>1</td>\n",
              "      <td>3</td>\n",
              "      <td>1</td>\n",
              "      <td>1504208.0</td>\n",
              "      <td>Marabá</td>\n",
              "      <td>15.0</td>\n",
              "      <td>PA</td>\n",
              "      <td>1</td>\n",
              "      <td>3</td>\n",
              "      <td>1</td>\n",
              "      <td>1.0</td>\n",
              "      <td>0</td>\n",
              "      <td>NaN</td>\n",
              "      <td>NaN</td>\n",
              "      <td>NaN</td>\n",
              "      <td>NaN</td>\n",
              "      <td>NaN</td>\n",
              "      <td>NaN</td>\n",
              "      <td>NaN</td>\n",
              "      <td>NaN</td>\n",
              "      <td>0</td>\n",
              "      <td>0</td>\n",
              "      <td>0</td>\n",
              "      <td>0</td>\n",
              "      <td>0</td>\n",
              "      <td>0</td>\n",
              "      <td>0</td>\n",
              "      <td>0</td>\n",
              "      <td>0</td>\n",
              "      <td>0</td>\n",
              "      <td>0</td>\n",
              "      <td>0</td>\n",
              "      <td>...</td>\n",
              "      <td>ABBCEADCEBAAACACEDCDCDACCCACDCBCABCAACBDBDEDE</td>\n",
              "      <td>99999ABCEBCEDDECEEEBBCCEECCABDABEEBCDEAEBBEAEA...</td>\n",
              "      <td>NaN</td>\n",
              "      <td>1</td>\n",
              "      <td>NaN</td>\n",
              "      <td>CBABADBBCEEEBCBADCBEEDBBEADBBACDBBACCCCADACAC</td>\n",
              "      <td>BBEDABDACACBABAECBBCCADCEBDBBCDDEEAAADDBECDECA...</td>\n",
              "      <td>NaN</td>\n",
              "      <td>1.0</td>\n",
              "      <td>80.0</td>\n",
              "      <td>100.0</td>\n",
              "      <td>80.0</td>\n",
              "      <td>80.0</td>\n",
              "      <td>60.0</td>\n",
              "      <td>400.0</td>\n",
              "      <td>C</td>\n",
              "      <td>C</td>\n",
              "      <td>A</td>\n",
              "      <td>A</td>\n",
              "      <td>4</td>\n",
              "      <td>B</td>\n",
              "      <td>A</td>\n",
              "      <td>B</td>\n",
              "      <td>C</td>\n",
              "      <td>A</td>\n",
              "      <td>A</td>\n",
              "      <td>B</td>\n",
              "      <td>B</td>\n",
              "      <td>B</td>\n",
              "      <td>A</td>\n",
              "      <td>A</td>\n",
              "      <td>A</td>\n",
              "      <td>A</td>\n",
              "      <td>B</td>\n",
              "      <td>A</td>\n",
              "      <td>A</td>\n",
              "      <td>B</td>\n",
              "      <td>A</td>\n",
              "      <td>A</td>\n",
              "      <td>B</td>\n",
              "    </tr>\n",
              "    <tr>\n",
              "      <th>2</th>\n",
              "      <td>190001004722</td>\n",
              "      <td>2019</td>\n",
              "      <td>1501402</td>\n",
              "      <td>Belém</td>\n",
              "      <td>15</td>\n",
              "      <td>PA</td>\n",
              "      <td>35</td>\n",
              "      <td>F</td>\n",
              "      <td>2</td>\n",
              "      <td>1</td>\n",
              "      <td>1</td>\n",
              "      <td>1501402.0</td>\n",
              "      <td>Belém</td>\n",
              "      <td>15.0</td>\n",
              "      <td>PA</td>\n",
              "      <td>1</td>\n",
              "      <td>12</td>\n",
              "      <td>1</td>\n",
              "      <td>1.0</td>\n",
              "      <td>0</td>\n",
              "      <td>NaN</td>\n",
              "      <td>NaN</td>\n",
              "      <td>NaN</td>\n",
              "      <td>NaN</td>\n",
              "      <td>NaN</td>\n",
              "      <td>NaN</td>\n",
              "      <td>NaN</td>\n",
              "      <td>NaN</td>\n",
              "      <td>0</td>\n",
              "      <td>0</td>\n",
              "      <td>0</td>\n",
              "      <td>0</td>\n",
              "      <td>0</td>\n",
              "      <td>0</td>\n",
              "      <td>0</td>\n",
              "      <td>0</td>\n",
              "      <td>0</td>\n",
              "      <td>0</td>\n",
              "      <td>0</td>\n",
              "      <td>0</td>\n",
              "      <td>...</td>\n",
              "      <td>CDCAACCAAADEACBBEBAAEECDABDEBAEAABEDCABABAABC</td>\n",
              "      <td>99999ECBCECEBBABECCCECECCEECCDECEEEDADDDDECEDD...</td>\n",
              "      <td>DDBEADEBBCADCEEACABECBCEBADECADCEDAACBDABABCE</td>\n",
              "      <td>1</td>\n",
              "      <td>AAECACDEADCBCDDDBCBDADAEABCEBABEEBCBEECEBDADC</td>\n",
              "      <td>CBABADBBCEEEBCBADCBEEDBBEADBBACDBBACCCCADACAC</td>\n",
              "      <td>BBEDABDACACBABAECBBCCADCEBDBBCDDEEAAADDBECDECA...</td>\n",
              "      <td>EEEADBEBACABCDBABECECACDCBDCCEDCDABEDECDDDBAA</td>\n",
              "      <td>1.0</td>\n",
              "      <td>100.0</td>\n",
              "      <td>120.0</td>\n",
              "      <td>120.0</td>\n",
              "      <td>100.0</td>\n",
              "      <td>120.0</td>\n",
              "      <td>560.0</td>\n",
              "      <td>C</td>\n",
              "      <td>A</td>\n",
              "      <td>B</td>\n",
              "      <td>B</td>\n",
              "      <td>5</td>\n",
              "      <td>C</td>\n",
              "      <td>A</td>\n",
              "      <td>B</td>\n",
              "      <td>C</td>\n",
              "      <td>A</td>\n",
              "      <td>A</td>\n",
              "      <td>B</td>\n",
              "      <td>A</td>\n",
              "      <td>B</td>\n",
              "      <td>A</td>\n",
              "      <td>A</td>\n",
              "      <td>A</td>\n",
              "      <td>A</td>\n",
              "      <td>B</td>\n",
              "      <td>A</td>\n",
              "      <td>B</td>\n",
              "      <td>B</td>\n",
              "      <td>A</td>\n",
              "      <td>A</td>\n",
              "      <td>B</td>\n",
              "    </tr>\n",
              "    <tr>\n",
              "      <th>3</th>\n",
              "      <td>190001004735</td>\n",
              "      <td>2019</td>\n",
              "      <td>1507300</td>\n",
              "      <td>São Félix do Xingu</td>\n",
              "      <td>15</td>\n",
              "      <td>PA</td>\n",
              "      <td>23</td>\n",
              "      <td>F</td>\n",
              "      <td>1</td>\n",
              "      <td>3</td>\n",
              "      <td>1</td>\n",
              "      <td>1505437.0</td>\n",
              "      <td>Ourilândia do Norte</td>\n",
              "      <td>15.0</td>\n",
              "      <td>PA</td>\n",
              "      <td>1</td>\n",
              "      <td>7</td>\n",
              "      <td>1</td>\n",
              "      <td>NaN</td>\n",
              "      <td>0</td>\n",
              "      <td>NaN</td>\n",
              "      <td>NaN</td>\n",
              "      <td>NaN</td>\n",
              "      <td>NaN</td>\n",
              "      <td>NaN</td>\n",
              "      <td>NaN</td>\n",
              "      <td>NaN</td>\n",
              "      <td>NaN</td>\n",
              "      <td>0</td>\n",
              "      <td>0</td>\n",
              "      <td>0</td>\n",
              "      <td>0</td>\n",
              "      <td>0</td>\n",
              "      <td>0</td>\n",
              "      <td>0</td>\n",
              "      <td>0</td>\n",
              "      <td>0</td>\n",
              "      <td>0</td>\n",
              "      <td>0</td>\n",
              "      <td>0</td>\n",
              "      <td>...</td>\n",
              "      <td>EECCCEDBADBEAAAAEBAECEAAAAEEEBACCAC*CEAEDAECE</td>\n",
              "      <td>99999BABCDABBCBDDAAECADBDDADDCBCEEDCAEBCEAEABD...</td>\n",
              "      <td>CBDEBBCBDEBCABCDBDEDADCCBEDBCAECEBEBDEBAEECBC</td>\n",
              "      <td>1</td>\n",
              "      <td>BEEAAEBEEBADEADDADAEABCEDDDBCBCBCCACBCDADCCEB</td>\n",
              "      <td>EEBCEEDBADBBCBABCCADCEBACDBBACCACACBEADBBADCB</td>\n",
              "      <td>ADBBEDCABAABBCBCDAAECDDDBAAAECADECDCEBDEEAECBD...</td>\n",
              "      <td>BEDEEEAADBEBACABCDBABECECACADCBDCCEDCDABECDDD</td>\n",
              "      <td>1.0</td>\n",
              "      <td>100.0</td>\n",
              "      <td>120.0</td>\n",
              "      <td>120.0</td>\n",
              "      <td>120.0</td>\n",
              "      <td>40.0</td>\n",
              "      <td>500.0</td>\n",
              "      <td>E</td>\n",
              "      <td>C</td>\n",
              "      <td>A</td>\n",
              "      <td>A</td>\n",
              "      <td>1</td>\n",
              "      <td>B</td>\n",
              "      <td>A</td>\n",
              "      <td>B</td>\n",
              "      <td>C</td>\n",
              "      <td>A</td>\n",
              "      <td>A</td>\n",
              "      <td>B</td>\n",
              "      <td>A</td>\n",
              "      <td>A</td>\n",
              "      <td>A</td>\n",
              "      <td>A</td>\n",
              "      <td>A</td>\n",
              "      <td>A</td>\n",
              "      <td>B</td>\n",
              "      <td>A</td>\n",
              "      <td>A</td>\n",
              "      <td>B</td>\n",
              "      <td>A</td>\n",
              "      <td>A</td>\n",
              "      <td>B</td>\n",
              "    </tr>\n",
              "    <tr>\n",
              "      <th>4</th>\n",
              "      <td>190001004776</td>\n",
              "      <td>2019</td>\n",
              "      <td>1500800</td>\n",
              "      <td>Ananindeua</td>\n",
              "      <td>15</td>\n",
              "      <td>PA</td>\n",
              "      <td>16</td>\n",
              "      <td>F</td>\n",
              "      <td>1</td>\n",
              "      <td>3</td>\n",
              "      <td>1</td>\n",
              "      <td>1500800.0</td>\n",
              "      <td>Ananindeua</td>\n",
              "      <td>15.0</td>\n",
              "      <td>PA</td>\n",
              "      <td>3</td>\n",
              "      <td>0</td>\n",
              "      <td>1</td>\n",
              "      <td>NaN</td>\n",
              "      <td>1</td>\n",
              "      <td>NaN</td>\n",
              "      <td>NaN</td>\n",
              "      <td>NaN</td>\n",
              "      <td>NaN</td>\n",
              "      <td>NaN</td>\n",
              "      <td>NaN</td>\n",
              "      <td>NaN</td>\n",
              "      <td>NaN</td>\n",
              "      <td>0</td>\n",
              "      <td>0</td>\n",
              "      <td>0</td>\n",
              "      <td>0</td>\n",
              "      <td>0</td>\n",
              "      <td>0</td>\n",
              "      <td>0</td>\n",
              "      <td>0</td>\n",
              "      <td>0</td>\n",
              "      <td>0</td>\n",
              "      <td>0</td>\n",
              "      <td>0</td>\n",
              "      <td>...</td>\n",
              "      <td>CCBCBEACABACABBBBACCBCEBDCBABCADADCBCADBAADEA</td>\n",
              "      <td>EBCAB99999BBCECBCACBEACBDAABDBCBBDACEBBACDCAEC...</td>\n",
              "      <td>AECCBBCBBCBDEDECACBAABEDABBEDDADCEADDBEBDBBEB</td>\n",
              "      <td>0</td>\n",
              "      <td>DEADBAAAEBEECEBCBCBCBDADAEABCEDDDDADCBEECACBC</td>\n",
              "      <td>ACACEEBCCBABADBBBACDBBACCCCADCEBADCBEEDBBEADB</td>\n",
              "      <td>EBBADCABDABACBCEBDEEAAADDBECDECDDBADBCDAAECBCC...</td>\n",
              "      <td>AADDDBEEEBEDDBEBACABCDBABECECACAECDCBDCCEDCDA</td>\n",
              "      <td>1.0</td>\n",
              "      <td>160.0</td>\n",
              "      <td>140.0</td>\n",
              "      <td>160.0</td>\n",
              "      <td>160.0</td>\n",
              "      <td>160.0</td>\n",
              "      <td>780.0</td>\n",
              "      <td>E</td>\n",
              "      <td>E</td>\n",
              "      <td>B</td>\n",
              "      <td>D</td>\n",
              "      <td>3</td>\n",
              "      <td>E</td>\n",
              "      <td>A</td>\n",
              "      <td>B</td>\n",
              "      <td>C</td>\n",
              "      <td>B</td>\n",
              "      <td>A</td>\n",
              "      <td>B</td>\n",
              "      <td>A</td>\n",
              "      <td>A</td>\n",
              "      <td>A</td>\n",
              "      <td>A</td>\n",
              "      <td>A</td>\n",
              "      <td>A</td>\n",
              "      <td>B</td>\n",
              "      <td>A</td>\n",
              "      <td>A</td>\n",
              "      <td>D</td>\n",
              "      <td>A</td>\n",
              "      <td>A</td>\n",
              "      <td>B</td>\n",
              "    </tr>\n",
              "  </tbody>\n",
              "</table>\n",
              "<p>5 rows × 136 columns</p>\n",
              "</div>"
            ],
            "text/plain": [
              "   NU_INSCRICAO  NU_ANO  CO_MUNICIPIO_RESIDENCIA  ... Q023  Q024 Q025\n",
              "0  190001004661    2019                  1506138  ...    A     B    B\n",
              "1  190001004674    2019                  1504208  ...    A     A    B\n",
              "2  190001004722    2019                  1501402  ...    A     A    B\n",
              "3  190001004735    2019                  1507300  ...    A     A    B\n",
              "4  190001004776    2019                  1500800  ...    A     A    B\n",
              "\n",
              "[5 rows x 136 columns]"
            ]
          },
          "metadata": {
            "tags": []
          },
          "execution_count": 1
        }
      ]
    },
    {
      "cell_type": "code",
      "metadata": {
        "id": "l_c_se1EsT2T",
        "outputId": "e334daca-05ca-4afe-8c8f-8aca3f7471b2",
        "colab": {
          "base_uri": "https://localhost:8080/",
          "height": 35
        }
      },
      "source": [
        "dados.shape"
      ],
      "execution_count": null,
      "outputs": [
        {
          "output_type": "execute_result",
          "data": {
            "text/plain": [
              "(127380, 136)"
            ]
          },
          "metadata": {
            "tags": []
          },
          "execution_count": 2
        }
      ]
    },
    {
      "cell_type": "code",
      "metadata": {
        "id": "4Z9S5NcGszaX",
        "outputId": "8c65fa0a-2386-4205-8bdf-488fcf0ed96c",
        "colab": {
          "base_uri": "https://localhost:8080/",
          "height": 225
        }
      },
      "source": [
        "dados[\"SG_UF_RESIDENCIA\"] #saida no formato serie do pandas SG_UF_RESIDENCIA"
      ],
      "execution_count": null,
      "outputs": [
        {
          "output_type": "execute_result",
          "data": {
            "text/plain": [
              "0         PA\n",
              "1         PA\n",
              "2         PA\n",
              "3         PA\n",
              "4         PA\n",
              "          ..\n",
              "127375    MG\n",
              "127376    BA\n",
              "127377    BA\n",
              "127378    BA\n",
              "127379    MG\n",
              "Name: SG_UF_RESIDENCIA, Length: 127380, dtype: object"
            ]
          },
          "metadata": {
            "tags": []
          },
          "execution_count": 3
        }
      ]
    },
    {
      "cell_type": "code",
      "metadata": {
        "id": "V_z4ALsCtOn5",
        "outputId": "2b3eb9a8-9191-4915-9abc-5840de5e215b",
        "colab": {
          "base_uri": "https://localhost:8080/",
          "height": 693
        }
      },
      "source": [
        "dados.columns.values #imprimir nome das colunas"
      ],
      "execution_count": null,
      "outputs": [
        {
          "output_type": "execute_result",
          "data": {
            "text/plain": [
              "array(['NU_INSCRICAO', 'NU_ANO', 'CO_MUNICIPIO_RESIDENCIA',\n",
              "       'NO_MUNICIPIO_RESIDENCIA', 'CO_UF_RESIDENCIA', 'SG_UF_RESIDENCIA',\n",
              "       'NU_IDADE', 'TP_SEXO', 'TP_ESTADO_CIVIL', 'TP_COR_RACA',\n",
              "       'TP_NACIONALIDADE', 'CO_MUNICIPIO_NASCIMENTO',\n",
              "       'NO_MUNICIPIO_NASCIMENTO', 'CO_UF_NASCIMENTO', 'SG_UF_NASCIMENTO',\n",
              "       'TP_ST_CONCLUSAO', 'TP_ANO_CONCLUIU', 'TP_ESCOLA', 'TP_ENSINO',\n",
              "       'IN_TREINEIRO', 'CO_ESCOLA', 'CO_MUNICIPIO_ESC',\n",
              "       'NO_MUNICIPIO_ESC', 'CO_UF_ESC', 'SG_UF_ESC',\n",
              "       'TP_DEPENDENCIA_ADM_ESC', 'TP_LOCALIZACAO_ESC', 'TP_SIT_FUNC_ESC',\n",
              "       'IN_BAIXA_VISAO', 'IN_CEGUEIRA', 'IN_SURDEZ',\n",
              "       'IN_DEFICIENCIA_AUDITIVA', 'IN_SURDO_CEGUEIRA',\n",
              "       'IN_DEFICIENCIA_FISICA', 'IN_DEFICIENCIA_MENTAL',\n",
              "       'IN_DEFICIT_ATENCAO', 'IN_DISLEXIA', 'IN_DISCALCULIA',\n",
              "       'IN_AUTISMO', 'IN_VISAO_MONOCULAR', 'IN_OUTRA_DEF', 'IN_GESTANTE',\n",
              "       'IN_LACTANTE', 'IN_IDOSO', 'IN_ESTUDA_CLASSE_HOSPITALAR',\n",
              "       'IN_SEM_RECURSO', 'IN_BRAILLE', 'IN_AMPLIADA_24', 'IN_AMPLIADA_18',\n",
              "       'IN_LEDOR', 'IN_ACESSO', 'IN_TRANSCRICAO', 'IN_LIBRAS',\n",
              "       'IN_TEMPO_ADICIONAL', 'IN_LEITURA_LABIAL', 'IN_MESA_CADEIRA_RODAS',\n",
              "       'IN_MESA_CADEIRA_SEPARADA', 'IN_APOIO_PERNA', 'IN_GUIA_INTERPRETE',\n",
              "       'IN_COMPUTADOR', 'IN_CADEIRA_ESPECIAL', 'IN_CADEIRA_CANHOTO',\n",
              "       'IN_CADEIRA_ACOLCHOADA', 'IN_PROVA_DEITADO', 'IN_MOBILIARIO_OBESO',\n",
              "       'IN_LAMINA_OVERLAY', 'IN_PROTETOR_AURICULAR', 'IN_MEDIDOR_GLICOSE',\n",
              "       'IN_MAQUINA_BRAILE', 'IN_SOROBAN', 'IN_MARCA_PASSO', 'IN_SONDA',\n",
              "       'IN_MEDICAMENTOS', 'IN_SALA_INDIVIDUAL', 'IN_SALA_ESPECIAL',\n",
              "       'IN_SALA_ACOMPANHANTE', 'IN_MOBILIARIO_ESPECIFICO',\n",
              "       'IN_MATERIAL_ESPECIFICO', 'IN_NOME_SOCIAL', 'CO_MUNICIPIO_PROVA',\n",
              "       'NO_MUNICIPIO_PROVA', 'CO_UF_PROVA', 'SG_UF_PROVA',\n",
              "       'TP_PRESENCA_CN', 'TP_PRESENCA_CH', 'TP_PRESENCA_LC',\n",
              "       'TP_PRESENCA_MT', 'CO_PROVA_CN', 'CO_PROVA_CH', 'CO_PROVA_LC',\n",
              "       'CO_PROVA_MT', 'NU_NOTA_CN', 'NU_NOTA_CH', 'NU_NOTA_LC',\n",
              "       'NU_NOTA_MT', 'TX_RESPOSTAS_CN', 'TX_RESPOSTAS_CH',\n",
              "       'TX_RESPOSTAS_LC', 'TX_RESPOSTAS_MT', 'TP_LINGUA',\n",
              "       'TX_GABARITO_CN', 'TX_GABARITO_CH', 'TX_GABARITO_LC',\n",
              "       'TX_GABARITO_MT', 'TP_STATUS_REDACAO', 'NU_NOTA_COMP1',\n",
              "       'NU_NOTA_COMP2', 'NU_NOTA_COMP3', 'NU_NOTA_COMP4', 'NU_NOTA_COMP5',\n",
              "       'NU_NOTA_REDACAO', 'Q001', 'Q002', 'Q003', 'Q004', 'Q005', 'Q006',\n",
              "       'Q007', 'Q008', 'Q009', 'Q010', 'Q011', 'Q012', 'Q013', 'Q014',\n",
              "       'Q015', 'Q016', 'Q017', 'Q018', 'Q019', 'Q020', 'Q021', 'Q022',\n",
              "       'Q023', 'Q024', 'Q025'], dtype=object)"
            ]
          },
          "metadata": {
            "tags": []
          },
          "execution_count": 4
        }
      ]
    },
    {
      "cell_type": "code",
      "metadata": {
        "id": "UgEvQN1stYb3",
        "outputId": "c37430dd-2639-49ae-fe00-19be7ba6b98b",
        "colab": {
          "base_uri": "https://localhost:8080/",
          "height": 415
        }
      },
      "source": [
        "dados[[\"SG_UF_RESIDENCIA\",\"Q025\"]] #tem que transformar o arry em lista"
      ],
      "execution_count": null,
      "outputs": [
        {
          "output_type": "execute_result",
          "data": {
            "text/html": [
              "<div>\n",
              "<style scoped>\n",
              "    .dataframe tbody tr th:only-of-type {\n",
              "        vertical-align: middle;\n",
              "    }\n",
              "\n",
              "    .dataframe tbody tr th {\n",
              "        vertical-align: top;\n",
              "    }\n",
              "\n",
              "    .dataframe thead th {\n",
              "        text-align: right;\n",
              "    }\n",
              "</style>\n",
              "<table border=\"1\" class=\"dataframe\">\n",
              "  <thead>\n",
              "    <tr style=\"text-align: right;\">\n",
              "      <th></th>\n",
              "      <th>SG_UF_RESIDENCIA</th>\n",
              "      <th>Q025</th>\n",
              "    </tr>\n",
              "  </thead>\n",
              "  <tbody>\n",
              "    <tr>\n",
              "      <th>0</th>\n",
              "      <td>PA</td>\n",
              "      <td>B</td>\n",
              "    </tr>\n",
              "    <tr>\n",
              "      <th>1</th>\n",
              "      <td>PA</td>\n",
              "      <td>B</td>\n",
              "    </tr>\n",
              "    <tr>\n",
              "      <th>2</th>\n",
              "      <td>PA</td>\n",
              "      <td>B</td>\n",
              "    </tr>\n",
              "    <tr>\n",
              "      <th>3</th>\n",
              "      <td>PA</td>\n",
              "      <td>B</td>\n",
              "    </tr>\n",
              "    <tr>\n",
              "      <th>4</th>\n",
              "      <td>PA</td>\n",
              "      <td>B</td>\n",
              "    </tr>\n",
              "    <tr>\n",
              "      <th>...</th>\n",
              "      <td>...</td>\n",
              "      <td>...</td>\n",
              "    </tr>\n",
              "    <tr>\n",
              "      <th>127375</th>\n",
              "      <td>MG</td>\n",
              "      <td>B</td>\n",
              "    </tr>\n",
              "    <tr>\n",
              "      <th>127376</th>\n",
              "      <td>BA</td>\n",
              "      <td>B</td>\n",
              "    </tr>\n",
              "    <tr>\n",
              "      <th>127377</th>\n",
              "      <td>BA</td>\n",
              "      <td>B</td>\n",
              "    </tr>\n",
              "    <tr>\n",
              "      <th>127378</th>\n",
              "      <td>BA</td>\n",
              "      <td>A</td>\n",
              "    </tr>\n",
              "    <tr>\n",
              "      <th>127379</th>\n",
              "      <td>MG</td>\n",
              "      <td>B</td>\n",
              "    </tr>\n",
              "  </tbody>\n",
              "</table>\n",
              "<p>127380 rows × 2 columns</p>\n",
              "</div>"
            ],
            "text/plain": [
              "       SG_UF_RESIDENCIA Q025\n",
              "0                    PA    B\n",
              "1                    PA    B\n",
              "2                    PA    B\n",
              "3                    PA    B\n",
              "4                    PA    B\n",
              "...                 ...  ...\n",
              "127375               MG    B\n",
              "127376               BA    B\n",
              "127377               BA    B\n",
              "127378               BA    A\n",
              "127379               MG    B\n",
              "\n",
              "[127380 rows x 2 columns]"
            ]
          },
          "metadata": {
            "tags": []
          },
          "execution_count": 5
        }
      ]
    },
    {
      "cell_type": "code",
      "metadata": {
        "id": "IAryLoEat7Xc",
        "outputId": "ec0ce8ef-4c11-488c-9b5d-7dcd13ff1238",
        "colab": {
          "base_uri": "https://localhost:8080/",
          "height": 225
        }
      },
      "source": [
        "dados[\"SG_UF_RESIDENCIA\"]"
      ],
      "execution_count": null,
      "outputs": [
        {
          "output_type": "execute_result",
          "data": {
            "text/plain": [
              "0         PA\n",
              "1         PA\n",
              "2         PA\n",
              "3         PA\n",
              "4         PA\n",
              "          ..\n",
              "127375    MG\n",
              "127376    BA\n",
              "127377    BA\n",
              "127378    BA\n",
              "127379    MG\n",
              "Name: SG_UF_RESIDENCIA, Length: 127380, dtype: object"
            ]
          },
          "metadata": {
            "tags": []
          },
          "execution_count": 6
        }
      ]
    },
    {
      "cell_type": "code",
      "metadata": {
        "id": "A3SHJW6ouAXA",
        "outputId": "66daea4c-ba62-4274-9c0c-dbcfc5e9d4a5",
        "colab": {
          "base_uri": "https://localhost:8080/",
          "height": 69
        }
      },
      "source": [
        "dados[\"SG_UF_RESIDENCIA\"].unique()"
      ],
      "execution_count": null,
      "outputs": [
        {
          "output_type": "execute_result",
          "data": {
            "text/plain": [
              "array(['PA', 'RO', 'MT', 'AC', 'AM', 'RR', 'MA', 'PR', 'BA', 'PI', 'CE',\n",
              "       'PE', 'AP', 'TO', 'SC', 'GO', 'MG', 'SP', 'SE', 'RJ', 'PB', 'AL',\n",
              "       'RN', 'ES', 'DF', 'RS', 'MS'], dtype=object)"
            ]
          },
          "metadata": {
            "tags": []
          },
          "execution_count": 7
        }
      ]
    },
    {
      "cell_type": "code",
      "metadata": {
        "id": "XHtdiZHWuFFg",
        "outputId": "df0ec1fd-16e6-4f31-df85-b25aef5b7261",
        "colab": {
          "base_uri": "https://localhost:8080/",
          "height": 35
        }
      },
      "source": [
        "len(dados[\"SG_UF_RESIDENCIA\"].unique())"
      ],
      "execution_count": null,
      "outputs": [
        {
          "output_type": "execute_result",
          "data": {
            "text/plain": [
              "27"
            ]
          },
          "metadata": {
            "tags": []
          },
          "execution_count": 8
        }
      ]
    },
    {
      "cell_type": "code",
      "metadata": {
        "id": "3Vlh59CxuNXZ",
        "outputId": "bc24b3d5-3e00-4f2d-e6de-a3e77b64299a",
        "colab": {
          "base_uri": "https://localhost:8080/",
          "height": 503
        }
      },
      "source": [
        "dados[\"SG_UF_RESIDENCIA\"].value_counts()"
      ],
      "execution_count": null,
      "outputs": [
        {
          "output_type": "execute_result",
          "data": {
            "text/plain": [
              "SP    20264\n",
              "MG    13547\n",
              "BA    10040\n",
              "RJ     8467\n",
              "CE     7381\n",
              "PA     7170\n",
              "PE     6941\n",
              "MA     5543\n",
              "RS     5466\n",
              "PR     5259\n",
              "GO     4268\n",
              "PB     3690\n",
              "PI     3034\n",
              "RN     2959\n",
              "AM     2820\n",
              "SC     2673\n",
              "ES     2550\n",
              "DF     2408\n",
              "AL     2263\n",
              "MT     2230\n",
              "SE     1815\n",
              "MS     1655\n",
              "RO     1400\n",
              "TO     1178\n",
              "AP     1047\n",
              "AC      946\n",
              "RR      366\n",
              "Name: SG_UF_RESIDENCIA, dtype: int64"
            ]
          },
          "metadata": {
            "tags": []
          },
          "execution_count": 9
        }
      ]
    },
    {
      "cell_type": "code",
      "metadata": {
        "id": "o466eLcduhRw",
        "outputId": "683eb33e-677d-405a-de89-accb3d0cee9d",
        "colab": {
          "base_uri": "https://localhost:8080/",
          "height": 225
        }
      },
      "source": [
        "dados[\"NU_IDADE\"].value_counts()"
      ],
      "execution_count": null,
      "outputs": [
        {
          "output_type": "execute_result",
          "data": {
            "text/plain": [
              "18    21452\n",
              "17    21256\n",
              "19    14418\n",
              "20    10413\n",
              "16     7830\n",
              "      ...  \n",
              "75        2\n",
              "73        2\n",
              "82        1\n",
              "77        1\n",
              "76        1\n",
              "Name: NU_IDADE, Length: 65, dtype: int64"
            ]
          },
          "metadata": {
            "tags": []
          },
          "execution_count": 10
        }
      ]
    },
    {
      "cell_type": "code",
      "metadata": {
        "id": "-nKSzO3ouuBQ",
        "outputId": "56fa7113-b784-48b6-9654-5594ed7596c9",
        "colab": {
          "base_uri": "https://localhost:8080/",
          "height": 225
        }
      },
      "source": [
        "dados[\"NU_IDADE\"].value_counts().sort_index()"
      ],
      "execution_count": null,
      "outputs": [
        {
          "output_type": "execute_result",
          "data": {
            "text/plain": [
              "13        4\n",
              "14      141\n",
              "15     2009\n",
              "16     7830\n",
              "17    21256\n",
              "      ...  \n",
              "73        2\n",
              "75        2\n",
              "76        1\n",
              "77        1\n",
              "82        1\n",
              "Name: NU_IDADE, Length: 65, dtype: int64"
            ]
          },
          "metadata": {
            "tags": []
          },
          "execution_count": 11
        }
      ]
    },
    {
      "cell_type": "code",
      "metadata": {
        "id": "cFjcW0rbmz5N",
        "outputId": "39e8d6c5-5e01-43ea-b3db-27a255c90851",
        "colab": {
          "base_uri": "https://localhost:8080/",
          "height": 285
        }
      },
      "source": [
        "dados[\"NU_IDADE\"].hist()"
      ],
      "execution_count": null,
      "outputs": [
        {
          "output_type": "execute_result",
          "data": {
            "text/plain": [
              "<matplotlib.axes._subplots.AxesSubplot at 0x7f0e3502bda0>"
            ]
          },
          "metadata": {
            "tags": []
          },
          "execution_count": 12
        },
        {
          "output_type": "display_data",
          "data": {
            "image/png": "[encoded data removed]",
            "text/plain": [
              "<Figure size 432x288 with 1 Axes>"
            ]
          },
          "metadata": {
            "tags": [],
            "needs_background": "light"
          }
        }
      ]
    },
    {
      "cell_type": "code",
      "metadata": {
        "id": "9HD5q2hSnNrk",
        "outputId": "bb4ff85e-4932-484e-a8f8-7415628cf01d",
        "colab": {
          "base_uri": "https://localhost:8080/",
          "height": 501
        }
      },
      "source": [
        "dados[\"NU_IDADE\"].hist(bins = 20 , figsize = (10,8))"
      ],
      "execution_count": null,
      "outputs": [
        {
          "output_type": "execute_result",
          "data": {
            "text/plain": [
              "<matplotlib.axes._subplots.AxesSubplot at 0x7f0e34ab8358>"
            ]
          },
          "metadata": {
            "tags": []
          },
          "execution_count": 13
        },
        {
          "output_type": "display_data",
          "data": {
            "image/png": "[encoded data removed]",
            "text/plain": [
              "<Figure size 720x576 with 1 Axes>"
            ]
          },
          "metadata": {
            "tags": [],
            "needs_background": "light"
          }
        }
      ]
    },
    {
      "cell_type": "code",
      "metadata": {
        "id": "8xW-_-FxsCuM",
        "outputId": "c49a8551-dd71-46d7-d692-dab5a96b8077",
        "colab": {
          "base_uri": "https://localhost:8080/",
          "height": 225
        }
      },
      "source": [
        "dados[\"IN_TREINEIRO\"]"
      ],
      "execution_count": null,
      "outputs": [
        {
          "output_type": "execute_result",
          "data": {
            "text/plain": [
              "0         1\n",
              "1         0\n",
              "2         0\n",
              "3         0\n",
              "4         1\n",
              "         ..\n",
              "127375    0\n",
              "127376    0\n",
              "127377    0\n",
              "127378    0\n",
              "127379    0\n",
              "Name: IN_TREINEIRO, Length: 127380, dtype: int64"
            ]
          },
          "metadata": {
            "tags": []
          },
          "execution_count": 14
        }
      ]
    },
    {
      "cell_type": "code",
      "metadata": {
        "id": "GSpGxyeKsbdS",
        "outputId": "7ffcd218-83ae-4f85-b81e-ae8f828ceed2",
        "colab": {
          "base_uri": "https://localhost:8080/",
          "height": 676
        }
      },
      "source": [
        "dados.query(\"IN_TREINEIRO == 1\")[\"NU_IDADE\"].value_counts().sort_index()"
      ],
      "execution_count": null,
      "outputs": [
        {
          "output_type": "execute_result",
          "data": {
            "text/plain": [
              "14      64\n",
              "15    1927\n",
              "16    7142\n",
              "17    4901\n",
              "18     858\n",
              "19     228\n",
              "20      83\n",
              "21      44\n",
              "22      30\n",
              "23      21\n",
              "24      13\n",
              "25       8\n",
              "26      13\n",
              "27       9\n",
              "28       6\n",
              "29      10\n",
              "30       4\n",
              "31       4\n",
              "32       2\n",
              "33       1\n",
              "34       3\n",
              "35       2\n",
              "36       2\n",
              "37       1\n",
              "38       4\n",
              "39       2\n",
              "40       4\n",
              "41       1\n",
              "42       4\n",
              "44       2\n",
              "45       1\n",
              "46       2\n",
              "47       1\n",
              "48       1\n",
              "51       1\n",
              "55       1\n",
              "62       1\n",
              "Name: NU_IDADE, dtype: int64"
            ]
          },
          "metadata": {
            "tags": []
          },
          "execution_count": 15
        }
      ]
    },
    {
      "cell_type": "code",
      "metadata": {
        "id": "8mwz5yKE1PhM",
        "outputId": "9ae4a9b9-713d-4bb3-d452-0630b2e5cc92",
        "colab": {
          "base_uri": "https://localhost:8080/",
          "height": 391
        }
      },
      "source": [
        "dados[\"NU_NOTA_REDACAO\"].hist(bins = 20, figsize = (8,6))"
      ],
      "execution_count": null,
      "outputs": [
        {
          "output_type": "execute_result",
          "data": {
            "text/plain": [
              "<matplotlib.axes._subplots.AxesSubplot at 0x7f0e34a65780>"
            ]
          },
          "metadata": {
            "tags": []
          },
          "execution_count": 16
        },
        {
          "output_type": "display_data",
          "data": {
            "image/png": "[encoded data removed]",
            "text/plain": [
              "<Figure size 576x432 with 1 Axes>"
            ]
          },
          "metadata": {
            "tags": [],
            "needs_background": "light"
          }
        }
      ]
    },
    {
      "cell_type": "code",
      "metadata": {
        "id": "NB0o-sTV12nV",
        "outputId": "ed733714-af5f-4d9b-df22-be974c0fb434",
        "colab": {
          "base_uri": "https://localhost:8080/",
          "height": 35
        }
      },
      "source": [
        "dados[\"NU_NOTA_REDACAO\"].mean()#media"
      ],
      "execution_count": null,
      "outputs": [
        {
          "output_type": "execute_result",
          "data": {
            "text/plain": [
              "571.5700253970197"
            ]
          },
          "metadata": {
            "tags": []
          },
          "execution_count": 17
        }
      ]
    },
    {
      "cell_type": "code",
      "metadata": {
        "id": "6FZ1XTk219I9",
        "outputId": "2be087e1-dd7e-4210-e5aa-0fd4e0cd4a52",
        "colab": {
          "base_uri": "https://localhost:8080/",
          "height": 35
        }
      },
      "source": [
        "dados[\"NU_NOTA_REDACAO\"].std()#desvio padrão"
      ],
      "execution_count": null,
      "outputs": [
        {
          "output_type": "execute_result",
          "data": {
            "text/plain": [
              "188.07645455749753"
            ]
          },
          "metadata": {
            "tags": []
          },
          "execution_count": 18
        }
      ]
    },
    {
      "cell_type": "code",
      "metadata": {
        "id": "9wa1DEJ32KUk",
        "outputId": "9d37838d-e9c5-46e3-9a5d-2d35b659de51",
        "colab": {
          "base_uri": "https://localhost:8080/",
          "height": 294
        }
      },
      "source": [
        "provas = [\"NU_NOTA_CN\",\"NU_NOTA_CH\",\"NU_NOTA_MT\",\"NU_NOTA_LC\",\"NU_NOTA_REDACAO\"]\n",
        "\n",
        "dados[provas].describe()"
      ],
      "execution_count": null,
      "outputs": [
        {
          "output_type": "execute_result",
          "data": {
            "text/html": [
              "<div>\n",
              "<style scoped>\n",
              "    .dataframe tbody tr th:only-of-type {\n",
              "        vertical-align: middle;\n",
              "    }\n",
              "\n",
              "    .dataframe tbody tr th {\n",
              "        vertical-align: top;\n",
              "    }\n",
              "\n",
              "    .dataframe thead th {\n",
              "        text-align: right;\n",
              "    }\n",
              "</style>\n",
              "<table border=\"1\" class=\"dataframe\">\n",
              "  <thead>\n",
              "    <tr style=\"text-align: right;\">\n",
              "      <th></th>\n",
              "      <th>NU_NOTA_CN</th>\n",
              "      <th>NU_NOTA_CH</th>\n",
              "      <th>NU_NOTA_MT</th>\n",
              "      <th>NU_NOTA_LC</th>\n",
              "      <th>NU_NOTA_REDACAO</th>\n",
              "    </tr>\n",
              "  </thead>\n",
              "  <tbody>\n",
              "    <tr>\n",
              "      <th>count</th>\n",
              "      <td>92758.000000</td>\n",
              "      <td>98043.000000</td>\n",
              "      <td>92758.000000</td>\n",
              "      <td>98043.000000</td>\n",
              "      <td>98043.000000</td>\n",
              "    </tr>\n",
              "    <tr>\n",
              "      <th>mean</th>\n",
              "      <td>477.964015</td>\n",
              "      <td>507.365912</td>\n",
              "      <td>523.555206</td>\n",
              "      <td>520.463928</td>\n",
              "      <td>571.570025</td>\n",
              "    </tr>\n",
              "    <tr>\n",
              "      <th>std</th>\n",
              "      <td>76.296099</td>\n",
              "      <td>82.972839</td>\n",
              "      <td>109.416939</td>\n",
              "      <td>64.556578</td>\n",
              "      <td>188.076455</td>\n",
              "    </tr>\n",
              "    <tr>\n",
              "      <th>min</th>\n",
              "      <td>0.000000</td>\n",
              "      <td>0.000000</td>\n",
              "      <td>0.000000</td>\n",
              "      <td>0.000000</td>\n",
              "      <td>0.000000</td>\n",
              "    </tr>\n",
              "    <tr>\n",
              "      <th>25%</th>\n",
              "      <td>418.000000</td>\n",
              "      <td>447.900000</td>\n",
              "      <td>435.300000</td>\n",
              "      <td>483.700000</td>\n",
              "      <td>480.000000</td>\n",
              "    </tr>\n",
              "    <tr>\n",
              "      <th>50%</th>\n",
              "      <td>470.200000</td>\n",
              "      <td>510.900000</td>\n",
              "      <td>501.600000</td>\n",
              "      <td>526.100000</td>\n",
              "      <td>580.000000</td>\n",
              "    </tr>\n",
              "    <tr>\n",
              "      <th>75%</th>\n",
              "      <td>533.300000</td>\n",
              "      <td>567.100000</td>\n",
              "      <td>598.200000</td>\n",
              "      <td>565.100000</td>\n",
              "      <td>680.000000</td>\n",
              "    </tr>\n",
              "    <tr>\n",
              "      <th>max</th>\n",
              "      <td>797.300000</td>\n",
              "      <td>809.400000</td>\n",
              "      <td>985.000000</td>\n",
              "      <td>801.700000</td>\n",
              "      <td>1000.000000</td>\n",
              "    </tr>\n",
              "  </tbody>\n",
              "</table>\n",
              "</div>"
            ],
            "text/plain": [
              "         NU_NOTA_CN    NU_NOTA_CH    NU_NOTA_MT    NU_NOTA_LC  NU_NOTA_REDACAO\n",
              "count  92758.000000  98043.000000  92758.000000  98043.000000     98043.000000\n",
              "mean     477.964015    507.365912    523.555206    520.463928       571.570025\n",
              "std       76.296099     82.972839    109.416939     64.556578       188.076455\n",
              "min        0.000000      0.000000      0.000000      0.000000         0.000000\n",
              "25%      418.000000    447.900000    435.300000    483.700000       480.000000\n",
              "50%      470.200000    510.900000    501.600000    526.100000       580.000000\n",
              "75%      533.300000    567.100000    598.200000    565.100000       680.000000\n",
              "max      797.300000    809.400000    985.000000    801.700000      1000.000000"
            ]
          },
          "metadata": {
            "tags": []
          },
          "execution_count": 19
        }
      ]
    },
    {
      "cell_type": "code",
      "metadata": {
        "id": "PwfJQxY-CKgr",
        "outputId": "b555c01c-cf31-49ac-ac3d-33432d8aa92b",
        "colab": {
          "base_uri": "https://localhost:8080/",
          "height": 35
        }
      },
      "source": [
        "dados[\"NU_NOTA_LC\"].quantile(0.25)"
      ],
      "execution_count": null,
      "outputs": [
        {
          "output_type": "execute_result",
          "data": {
            "text/plain": [
              "483.7"
            ]
          },
          "metadata": {
            "tags": []
          },
          "execution_count": 20
        }
      ]
    },
    {
      "cell_type": "code",
      "metadata": {
        "id": "96HmA6itCvi-",
        "outputId": "d0c1be50-266c-43e6-95d0-f22b957aacb4",
        "colab": {
          "base_uri": "https://localhost:8080/",
          "height": 35
        }
      },
      "source": [
        "dados[\"NU_NOTA_LC\"].quantile(0.5)"
      ],
      "execution_count": null,
      "outputs": [
        {
          "output_type": "execute_result",
          "data": {
            "text/plain": [
              "526.1"
            ]
          },
          "metadata": {
            "tags": []
          },
          "execution_count": 21
        }
      ]
    },
    {
      "cell_type": "code",
      "metadata": {
        "id": "tVOenBm9Cwf5",
        "outputId": "0ad9fdd9-fdf1-4a12-82a9-d4438a89100b",
        "colab": {
          "base_uri": "https://localhost:8080/",
          "height": 35
        }
      },
      "source": [
        "dados[\"NU_NOTA_LC\"].quantile(0.75)"
      ],
      "execution_count": null,
      "outputs": [
        {
          "output_type": "execute_result",
          "data": {
            "text/plain": [
              "565.1"
            ]
          },
          "metadata": {
            "tags": []
          },
          "execution_count": 22
        }
      ]
    },
    {
      "cell_type": "code",
      "metadata": {
        "id": "kKsKPY2VDFDJ",
        "outputId": "83e52077-8ba9-41a8-f3e8-17d9c45f228b",
        "colab": {
          "base_uri": "https://localhost:8080/",
          "height": 393
        }
      },
      "source": [
        "dados[\"NU_NOTA_LC\"].plot.box(grid = True, figsize=(8,6))"
      ],
      "execution_count": null,
      "outputs": [
        {
          "output_type": "execute_result",
          "data": {
            "text/plain": [
              "<matplotlib.axes._subplots.AxesSubplot at 0x7f0e336bc9e8>"
            ]
          },
          "metadata": {
            "tags": []
          },
          "execution_count": 23
        },
        {
          "output_type": "display_data",
          "data": {
            "image/png": "[encoded data removed]",
            "text/plain": [
              "<Figure size 576x432 with 1 Axes>"
            ]
          },
          "metadata": {
            "tags": [],
            "needs_background": "light"
          }
        }
      ]
    },
    {
      "cell_type": "code",
      "metadata": {
        "id": "NlQ0UwYUEFfC",
        "outputId": "b07a064c-0174-4778-d51a-c4c7917ac23e",
        "colab": {
          "base_uri": "https://localhost:8080/",
          "height": 393
        }
      },
      "source": [
        "dados[provas].boxplot(grid = True , figsize = (10,6))"
      ],
      "execution_count": null,
      "outputs": [
        {
          "output_type": "execute_result",
          "data": {
            "text/plain": [
              "<matplotlib.axes._subplots.AxesSubplot at 0x7f0e3359a630>"
            ]
          },
          "metadata": {
            "tags": []
          },
          "execution_count": 24
        },
        {
          "output_type": "display_data",
          "data": {
            "image/png": "[encoded data removed]",
            "text/plain": [
              "<Figure size 720x432 with 1 Axes>"
            ]
          },
          "metadata": {
            "tags": [],
            "needs_background": "light"
          }
        }
      ]
    },
    {
      "cell_type": "markdown",
      "metadata": {
        "id": "17TBBdtKGdpE"
      },
      "source": [
        "Desafio01: Proporção dos inscritos por idade.\n",
        "\n",
        "Desafio02: Descobrir de quais estados são os inscritos com 13 anos.\n",
        "\n",
        "Desafio03: Adicionar título no gráfico\n",
        "\n",
        "Desafio04: Plotar os Histogramas das idades dos do treineiro e não treineiros.\n",
        "\n",
        "Desafio05: Comparar as distribuições das provas em inglês espanhol\n",
        "\n",
        "Desafio06: Explorar a documentações e visualizações com matplotlib ou pandas e gerar novas visualizações."
      ]
    },
    {
      "cell_type": "markdown",
      "metadata": {
        "id": "Jf8ji9vtGnS1"
      },
      "source": [
        "Desafio01: Proporção dos inscritos por idade."
      ]
    },
    {
      "cell_type": "code",
      "metadata": {
        "id": "k1xy76whHqQL",
        "outputId": "b8626cd4-a055-462b-8c1b-60f86702c88a",
        "colab": {
          "base_uri": "https://localhost:8080/",
          "height": 225
        }
      },
      "source": [
        "dados[\"NU_IDADE\"].value_counts(normalize= True)"
      ],
      "execution_count": null,
      "outputs": [
        {
          "output_type": "execute_result",
          "data": {
            "text/plain": [
              "18    0.168409\n",
              "17    0.166871\n",
              "19    0.113189\n",
              "20    0.081748\n",
              "16    0.061470\n",
              "        ...   \n",
              "75    0.000016\n",
              "73    0.000016\n",
              "82    0.000008\n",
              "77    0.000008\n",
              "76    0.000008\n",
              "Name: NU_IDADE, Length: 65, dtype: float64"
            ]
          },
          "metadata": {
            "tags": []
          },
          "execution_count": 32
        }
      ]
    },
    {
      "cell_type": "code",
      "metadata": {
        "id": "NO7UW2SetZgu",
        "outputId": "7c38ec71-20aa-42a7-ec8a-6d4ecff97375",
        "colab": {
          "base_uri": "https://localhost:8080/",
          "height": 507
        }
      },
      "source": [
        "#dados[\"SG_UF_RESIDENCIA\"].value_counts().plot.pie(figsize=(10,8))\n",
        "dados[\"SG_UF_RESIDENCIA\"].value_counts(normalize= True).plot.bar(figsize=(10,8))"
      ],
      "execution_count": null,
      "outputs": [
        {
          "output_type": "execute_result",
          "data": {
            "text/plain": [
              "<matplotlib.axes._subplots.AxesSubplot at 0x7f0e2b0b4668>"
            ]
          },
          "metadata": {
            "tags": []
          },
          "execution_count": 42
        },
        {
          "output_type": "display_data",
          "data": {
            "image/png": "[encoded data removed]",
            "text/plain": [
              "<Figure size 720x576 with 1 Axes>"
            ]
          },
          "metadata": {
            "tags": [],
            "needs_background": "light"
          }
        }
      ]
    },
    {
      "cell_type": "code",
      "metadata": {
        "id": "C8zSJ42fsglV",
        "outputId": "1a265e54-7fa2-4eeb-b72c-020ce0a254a4",
        "colab": {
          "base_uri": "https://localhost:8080/",
          "height": 507
        }
      },
      "source": [
        "alunos_menor_quartoze = dados.query(\"NU_IDADE <=14\")\n",
        "#alunos_menor_quartoze[\"SG_UF_RESIDENCIA\"].value_counts().plot.pie(figsize=(10,8))\n",
        "alunos_menor_quartoze[\"SG_UF_RESIDENCIA\"].value_counts(normalize= True).plot.bar(figsize=(10,8))"
      ],
      "execution_count": null,
      "outputs": [
        {
          "output_type": "execute_result",
          "data": {
            "text/plain": [
              "<matplotlib.axes._subplots.AxesSubplot at 0x7f0e2afa4a20>"
            ]
          },
          "metadata": {
            "tags": []
          },
          "execution_count": 43
        },
        {
          "output_type": "display_data",
          "data": {
            "image/png": "[encoded data removed]",
            "text/plain": [
              "<Figure size 720x576 with 1 Axes>"
            ]
          },
          "metadata": {
            "tags": [],
            "needs_background": "light"
          }
        }
      ]
    },
    {
      "cell_type": "code",
      "metadata": {
        "id": "R-I9rul8ulTX",
        "outputId": "bdab1ca2-ab95-4ba7-826f-9d9b766e741f",
        "colab": {
          "base_uri": "https://localhost:8080/",
          "height": 35
        }
      },
      "source": [
        "len(alunos_menor_quartoze)"
      ],
      "execution_count": null,
      "outputs": [
        {
          "output_type": "execute_result",
          "data": {
            "text/plain": [
              "145"
            ]
          },
          "metadata": {
            "tags": []
          },
          "execution_count": 44
        }
      ]
    },
    {
      "cell_type": "markdown",
      "metadata": {
        "id": "Mjhe-c7aHL4v"
      },
      "source": [
        "Desafio02: Descobrir de quais estados são os inscritos com 13 anos."
      ]
    },
    {
      "cell_type": "code",
      "metadata": {
        "id": "D1PL3dhCGqFZ",
        "outputId": "343d8978-c689-4726-af1d-9365712dfeb0",
        "colab": {
          "base_uri": "https://localhost:8080/",
          "height": 104
        }
      },
      "source": [
        "dados.query(\"NU_IDADE == 13\")[\"SG_UF_RESIDENCIA\"].value_counts().sort_index()"
      ],
      "execution_count": null,
      "outputs": [
        {
          "output_type": "execute_result",
          "data": {
            "text/plain": [
              "AP    1\n",
              "BA    1\n",
              "MT    1\n",
              "SP    1\n",
              "Name: SG_UF_RESIDENCIA, dtype: int64"
            ]
          },
          "metadata": {
            "tags": []
          },
          "execution_count": 33
        }
      ]
    },
    {
      "cell_type": "code",
      "metadata": {
        "id": "7KXNuBYaqybZ",
        "outputId": "634ff9c8-5f54-410d-841d-6fd7da2a71db",
        "colab": {
          "base_uri": "https://localhost:8080/",
          "height": 221
        }
      },
      "source": [
        "dados.query(\"NU_IDADE == 13\")"
      ],
      "execution_count": null,
      "outputs": [
        {
          "output_type": "execute_result",
          "data": {
            "text/html": [
              "<div>\n",
              "<style scoped>\n",
              "    .dataframe tbody tr th:only-of-type {\n",
              "        vertical-align: middle;\n",
              "    }\n",
              "\n",
              "    .dataframe tbody tr th {\n",
              "        vertical-align: top;\n",
              "    }\n",
              "\n",
              "    .dataframe thead th {\n",
              "        text-align: right;\n",
              "    }\n",
              "</style>\n",
              "<table border=\"1\" class=\"dataframe\">\n",
              "  <thead>\n",
              "    <tr style=\"text-align: right;\">\n",
              "      <th></th>\n",
              "      <th>NU_INSCRICAO</th>\n",
              "      <th>NU_ANO</th>\n",
              "      <th>CO_MUNICIPIO_RESIDENCIA</th>\n",
              "      <th>NO_MUNICIPIO_RESIDENCIA</th>\n",
              "      <th>CO_UF_RESIDENCIA</th>\n",
              "      <th>SG_UF_RESIDENCIA</th>\n",
              "      <th>NU_IDADE</th>\n",
              "      <th>TP_SEXO</th>\n",
              "      <th>TP_ESTADO_CIVIL</th>\n",
              "      <th>TP_COR_RACA</th>\n",
              "      <th>TP_NACIONALIDADE</th>\n",
              "      <th>CO_MUNICIPIO_NASCIMENTO</th>\n",
              "      <th>NO_MUNICIPIO_NASCIMENTO</th>\n",
              "      <th>CO_UF_NASCIMENTO</th>\n",
              "      <th>SG_UF_NASCIMENTO</th>\n",
              "      <th>TP_ST_CONCLUSAO</th>\n",
              "      <th>TP_ANO_CONCLUIU</th>\n",
              "      <th>TP_ESCOLA</th>\n",
              "      <th>TP_ENSINO</th>\n",
              "      <th>IN_TREINEIRO</th>\n",
              "      <th>CO_ESCOLA</th>\n",
              "      <th>CO_MUNICIPIO_ESC</th>\n",
              "      <th>NO_MUNICIPIO_ESC</th>\n",
              "      <th>CO_UF_ESC</th>\n",
              "      <th>SG_UF_ESC</th>\n",
              "      <th>TP_DEPENDENCIA_ADM_ESC</th>\n",
              "      <th>TP_LOCALIZACAO_ESC</th>\n",
              "      <th>TP_SIT_FUNC_ESC</th>\n",
              "      <th>IN_BAIXA_VISAO</th>\n",
              "      <th>IN_CEGUEIRA</th>\n",
              "      <th>IN_SURDEZ</th>\n",
              "      <th>IN_DEFICIENCIA_AUDITIVA</th>\n",
              "      <th>IN_SURDO_CEGUEIRA</th>\n",
              "      <th>IN_DEFICIENCIA_FISICA</th>\n",
              "      <th>IN_DEFICIENCIA_MENTAL</th>\n",
              "      <th>IN_DEFICIT_ATENCAO</th>\n",
              "      <th>IN_DISLEXIA</th>\n",
              "      <th>IN_DISCALCULIA</th>\n",
              "      <th>IN_AUTISMO</th>\n",
              "      <th>IN_VISAO_MONOCULAR</th>\n",
              "      <th>...</th>\n",
              "      <th>TX_RESPOSTAS_CH</th>\n",
              "      <th>TX_RESPOSTAS_LC</th>\n",
              "      <th>TX_RESPOSTAS_MT</th>\n",
              "      <th>TP_LINGUA</th>\n",
              "      <th>TX_GABARITO_CN</th>\n",
              "      <th>TX_GABARITO_CH</th>\n",
              "      <th>TX_GABARITO_LC</th>\n",
              "      <th>TX_GABARITO_MT</th>\n",
              "      <th>TP_STATUS_REDACAO</th>\n",
              "      <th>NU_NOTA_COMP1</th>\n",
              "      <th>NU_NOTA_COMP2</th>\n",
              "      <th>NU_NOTA_COMP3</th>\n",
              "      <th>NU_NOTA_COMP4</th>\n",
              "      <th>NU_NOTA_COMP5</th>\n",
              "      <th>NU_NOTA_REDACAO</th>\n",
              "      <th>Q001</th>\n",
              "      <th>Q002</th>\n",
              "      <th>Q003</th>\n",
              "      <th>Q004</th>\n",
              "      <th>Q005</th>\n",
              "      <th>Q006</th>\n",
              "      <th>Q007</th>\n",
              "      <th>Q008</th>\n",
              "      <th>Q009</th>\n",
              "      <th>Q010</th>\n",
              "      <th>Q011</th>\n",
              "      <th>Q012</th>\n",
              "      <th>Q013</th>\n",
              "      <th>Q014</th>\n",
              "      <th>Q015</th>\n",
              "      <th>Q016</th>\n",
              "      <th>Q017</th>\n",
              "      <th>Q018</th>\n",
              "      <th>Q019</th>\n",
              "      <th>Q020</th>\n",
              "      <th>Q021</th>\n",
              "      <th>Q022</th>\n",
              "      <th>Q023</th>\n",
              "      <th>Q024</th>\n",
              "      <th>Q025</th>\n",
              "    </tr>\n",
              "  </thead>\n",
              "  <tbody>\n",
              "    <tr>\n",
              "      <th>57359</th>\n",
              "      <td>190003297248</td>\n",
              "      <td>2019</td>\n",
              "      <td>3504107</td>\n",
              "      <td>Atibaia</td>\n",
              "      <td>35</td>\n",
              "      <td>SP</td>\n",
              "      <td>13</td>\n",
              "      <td>F</td>\n",
              "      <td>1</td>\n",
              "      <td>1</td>\n",
              "      <td>1</td>\n",
              "      <td>3556701.0</td>\n",
              "      <td>Vinhedo</td>\n",
              "      <td>35.0</td>\n",
              "      <td>SP</td>\n",
              "      <td>4</td>\n",
              "      <td>0</td>\n",
              "      <td>1</td>\n",
              "      <td>NaN</td>\n",
              "      <td>0</td>\n",
              "      <td>NaN</td>\n",
              "      <td>NaN</td>\n",
              "      <td>NaN</td>\n",
              "      <td>NaN</td>\n",
              "      <td>NaN</td>\n",
              "      <td>NaN</td>\n",
              "      <td>NaN</td>\n",
              "      <td>NaN</td>\n",
              "      <td>0</td>\n",
              "      <td>0</td>\n",
              "      <td>0</td>\n",
              "      <td>0</td>\n",
              "      <td>0</td>\n",
              "      <td>0</td>\n",
              "      <td>0</td>\n",
              "      <td>0</td>\n",
              "      <td>0</td>\n",
              "      <td>0</td>\n",
              "      <td>0</td>\n",
              "      <td>0</td>\n",
              "      <td>...</td>\n",
              "      <td>CAEBCEBECAABCDBEEAEDDBCBACBCECAABDCACEABAEADC</td>\n",
              "      <td>BAAEC99999BCCDDEDACBAADECADBEADBADDBECADEBCBDA...</td>\n",
              "      <td>AABDCEACDDBEDABDDACBDECABACDDBAECDBECBBDEBCDA</td>\n",
              "      <td>0</td>\n",
              "      <td>DEADBAAAEBEECEBCBCBCBDADAEABCEDDDDADCBEECACBC</td>\n",
              "      <td>ACACEEBCCBABADBBBACDBBACCCCADCEBADCBEEDBBEADB</td>\n",
              "      <td>EBBADCABDABACBCEBDEEAAADDBECDECDDBADBCDAAECBCC...</td>\n",
              "      <td>AADDDBEEEBEDDBEBACABCDBABECECACAECDCBDCCEDCDA</td>\n",
              "      <td>1.0</td>\n",
              "      <td>160.0</td>\n",
              "      <td>200.0</td>\n",
              "      <td>200.0</td>\n",
              "      <td>200.0</td>\n",
              "      <td>160.0</td>\n",
              "      <td>920.0</td>\n",
              "      <td>E</td>\n",
              "      <td>G</td>\n",
              "      <td>C</td>\n",
              "      <td>D</td>\n",
              "      <td>3</td>\n",
              "      <td>F</td>\n",
              "      <td>A</td>\n",
              "      <td>C</td>\n",
              "      <td>C</td>\n",
              "      <td>B</td>\n",
              "      <td>A</td>\n",
              "      <td>B</td>\n",
              "      <td>B</td>\n",
              "      <td>B</td>\n",
              "      <td>A</td>\n",
              "      <td>B</td>\n",
              "      <td>A</td>\n",
              "      <td>A</td>\n",
              "      <td>B</td>\n",
              "      <td>A</td>\n",
              "      <td>A</td>\n",
              "      <td>D</td>\n",
              "      <td>B</td>\n",
              "      <td>B</td>\n",
              "      <td>B</td>\n",
              "    </tr>\n",
              "    <tr>\n",
              "      <th>95630</th>\n",
              "      <td>190004825557</td>\n",
              "      <td>2019</td>\n",
              "      <td>5107602</td>\n",
              "      <td>Rondonópolis</td>\n",
              "      <td>51</td>\n",
              "      <td>MT</td>\n",
              "      <td>13</td>\n",
              "      <td>M</td>\n",
              "      <td>1</td>\n",
              "      <td>1</td>\n",
              "      <td>1</td>\n",
              "      <td>5107602.0</td>\n",
              "      <td>Rondonópolis</td>\n",
              "      <td>51.0</td>\n",
              "      <td>MT</td>\n",
              "      <td>4</td>\n",
              "      <td>0</td>\n",
              "      <td>1</td>\n",
              "      <td>NaN</td>\n",
              "      <td>0</td>\n",
              "      <td>NaN</td>\n",
              "      <td>NaN</td>\n",
              "      <td>NaN</td>\n",
              "      <td>NaN</td>\n",
              "      <td>NaN</td>\n",
              "      <td>NaN</td>\n",
              "      <td>NaN</td>\n",
              "      <td>NaN</td>\n",
              "      <td>0</td>\n",
              "      <td>0</td>\n",
              "      <td>0</td>\n",
              "      <td>0</td>\n",
              "      <td>0</td>\n",
              "      <td>0</td>\n",
              "      <td>0</td>\n",
              "      <td>0</td>\n",
              "      <td>0</td>\n",
              "      <td>0</td>\n",
              "      <td>0</td>\n",
              "      <td>0</td>\n",
              "      <td>...</td>\n",
              "      <td>NaN</td>\n",
              "      <td>NaN</td>\n",
              "      <td>NaN</td>\n",
              "      <td>0</td>\n",
              "      <td>NaN</td>\n",
              "      <td>NaN</td>\n",
              "      <td>NaN</td>\n",
              "      <td>NaN</td>\n",
              "      <td>NaN</td>\n",
              "      <td>NaN</td>\n",
              "      <td>NaN</td>\n",
              "      <td>NaN</td>\n",
              "      <td>NaN</td>\n",
              "      <td>NaN</td>\n",
              "      <td>NaN</td>\n",
              "      <td>E</td>\n",
              "      <td>E</td>\n",
              "      <td>C</td>\n",
              "      <td>D</td>\n",
              "      <td>3</td>\n",
              "      <td>F</td>\n",
              "      <td>A</td>\n",
              "      <td>B</td>\n",
              "      <td>C</td>\n",
              "      <td>B</td>\n",
              "      <td>A</td>\n",
              "      <td>B</td>\n",
              "      <td>A</td>\n",
              "      <td>A</td>\n",
              "      <td>A</td>\n",
              "      <td>A</td>\n",
              "      <td>A</td>\n",
              "      <td>A</td>\n",
              "      <td>B</td>\n",
              "      <td>B</td>\n",
              "      <td>A</td>\n",
              "      <td>B</td>\n",
              "      <td>A</td>\n",
              "      <td>A</td>\n",
              "      <td>B</td>\n",
              "    </tr>\n",
              "    <tr>\n",
              "      <th>98197</th>\n",
              "      <td>190004926952</td>\n",
              "      <td>2019</td>\n",
              "      <td>1600303</td>\n",
              "      <td>Macapá</td>\n",
              "      <td>16</td>\n",
              "      <td>AP</td>\n",
              "      <td>13</td>\n",
              "      <td>M</td>\n",
              "      <td>1</td>\n",
              "      <td>3</td>\n",
              "      <td>1</td>\n",
              "      <td>1600303.0</td>\n",
              "      <td>Macapá</td>\n",
              "      <td>16.0</td>\n",
              "      <td>AP</td>\n",
              "      <td>4</td>\n",
              "      <td>0</td>\n",
              "      <td>1</td>\n",
              "      <td>NaN</td>\n",
              "      <td>0</td>\n",
              "      <td>NaN</td>\n",
              "      <td>NaN</td>\n",
              "      <td>NaN</td>\n",
              "      <td>NaN</td>\n",
              "      <td>NaN</td>\n",
              "      <td>NaN</td>\n",
              "      <td>NaN</td>\n",
              "      <td>NaN</td>\n",
              "      <td>0</td>\n",
              "      <td>0</td>\n",
              "      <td>0</td>\n",
              "      <td>0</td>\n",
              "      <td>0</td>\n",
              "      <td>0</td>\n",
              "      <td>0</td>\n",
              "      <td>0</td>\n",
              "      <td>0</td>\n",
              "      <td>0</td>\n",
              "      <td>0</td>\n",
              "      <td>0</td>\n",
              "      <td>...</td>\n",
              "      <td>NaN</td>\n",
              "      <td>NaN</td>\n",
              "      <td>NaN</td>\n",
              "      <td>1</td>\n",
              "      <td>NaN</td>\n",
              "      <td>NaN</td>\n",
              "      <td>NaN</td>\n",
              "      <td>NaN</td>\n",
              "      <td>NaN</td>\n",
              "      <td>NaN</td>\n",
              "      <td>NaN</td>\n",
              "      <td>NaN</td>\n",
              "      <td>NaN</td>\n",
              "      <td>NaN</td>\n",
              "      <td>NaN</td>\n",
              "      <td>G</td>\n",
              "      <td>E</td>\n",
              "      <td>D</td>\n",
              "      <td>B</td>\n",
              "      <td>4</td>\n",
              "      <td>K</td>\n",
              "      <td>B</td>\n",
              "      <td>C</td>\n",
              "      <td>D</td>\n",
              "      <td>B</td>\n",
              "      <td>A</td>\n",
              "      <td>B</td>\n",
              "      <td>B</td>\n",
              "      <td>B</td>\n",
              "      <td>B</td>\n",
              "      <td>B</td>\n",
              "      <td>A</td>\n",
              "      <td>A</td>\n",
              "      <td>C</td>\n",
              "      <td>B</td>\n",
              "      <td>A</td>\n",
              "      <td>E</td>\n",
              "      <td>A</td>\n",
              "      <td>B</td>\n",
              "      <td>B</td>\n",
              "    </tr>\n",
              "    <tr>\n",
              "      <th>116501</th>\n",
              "      <td>190005659236</td>\n",
              "      <td>2019</td>\n",
              "      <td>2917508</td>\n",
              "      <td>Jacobina</td>\n",
              "      <td>29</td>\n",
              "      <td>BA</td>\n",
              "      <td>13</td>\n",
              "      <td>M</td>\n",
              "      <td>1</td>\n",
              "      <td>3</td>\n",
              "      <td>1</td>\n",
              "      <td>2304400.0</td>\n",
              "      <td>Fortaleza</td>\n",
              "      <td>23.0</td>\n",
              "      <td>CE</td>\n",
              "      <td>4</td>\n",
              "      <td>0</td>\n",
              "      <td>1</td>\n",
              "      <td>NaN</td>\n",
              "      <td>0</td>\n",
              "      <td>NaN</td>\n",
              "      <td>NaN</td>\n",
              "      <td>NaN</td>\n",
              "      <td>NaN</td>\n",
              "      <td>NaN</td>\n",
              "      <td>NaN</td>\n",
              "      <td>NaN</td>\n",
              "      <td>NaN</td>\n",
              "      <td>0</td>\n",
              "      <td>0</td>\n",
              "      <td>0</td>\n",
              "      <td>0</td>\n",
              "      <td>0</td>\n",
              "      <td>0</td>\n",
              "      <td>0</td>\n",
              "      <td>0</td>\n",
              "      <td>0</td>\n",
              "      <td>0</td>\n",
              "      <td>0</td>\n",
              "      <td>0</td>\n",
              "      <td>...</td>\n",
              "      <td>ADCCCCDCEAAABCEEEDAD*CCCDEBADCDBBBCBEBDBDBECC</td>\n",
              "      <td>EBBAD99999BDCBCCBCEBBCADEDDEDECDECDECECACDCECC...</td>\n",
              "      <td>ECEADDBBABCCCDBDCAAECABDCBDBCECCECABCABBBCBAA</td>\n",
              "      <td>0</td>\n",
              "      <td>AAECACDEADCBCDDDBCBDADAEABCEBABEEBCBEECEBDADC</td>\n",
              "      <td>ACACEEBCCBABADBBBACDBBACCCCADCEBADCBEEDBBEADB</td>\n",
              "      <td>EBBADCABDABACBCEBDEEAAADDBECDECDDBADBCDAAECBCC...</td>\n",
              "      <td>EEEADBEBACABCDBABECECACDCBDCCEDCDABEDECDDDBAA</td>\n",
              "      <td>1.0</td>\n",
              "      <td>100.0</td>\n",
              "      <td>120.0</td>\n",
              "      <td>100.0</td>\n",
              "      <td>80.0</td>\n",
              "      <td>100.0</td>\n",
              "      <td>500.0</td>\n",
              "      <td>D</td>\n",
              "      <td>F</td>\n",
              "      <td>D</td>\n",
              "      <td>B</td>\n",
              "      <td>4</td>\n",
              "      <td>D</td>\n",
              "      <td>A</td>\n",
              "      <td>E</td>\n",
              "      <td>E</td>\n",
              "      <td>C</td>\n",
              "      <td>A</td>\n",
              "      <td>B</td>\n",
              "      <td>A</td>\n",
              "      <td>B</td>\n",
              "      <td>A</td>\n",
              "      <td>B</td>\n",
              "      <td>A</td>\n",
              "      <td>A</td>\n",
              "      <td>D</td>\n",
              "      <td>A</td>\n",
              "      <td>B</td>\n",
              "      <td>C</td>\n",
              "      <td>B</td>\n",
              "      <td>C</td>\n",
              "      <td>B</td>\n",
              "    </tr>\n",
              "  </tbody>\n",
              "</table>\n",
              "<p>4 rows × 136 columns</p>\n",
              "</div>"
            ],
            "text/plain": [
              "        NU_INSCRICAO  NU_ANO  CO_MUNICIPIO_RESIDENCIA  ... Q023  Q024 Q025\n",
              "57359   190003297248    2019                  3504107  ...    B     B    B\n",
              "95630   190004825557    2019                  5107602  ...    A     A    B\n",
              "98197   190004926952    2019                  1600303  ...    A     B    B\n",
              "116501  190005659236    2019                  2917508  ...    B     C    B\n",
              "\n",
              "[4 rows x 136 columns]"
            ]
          },
          "metadata": {
            "tags": []
          },
          "execution_count": 25
        }
      ]
    },
    {
      "cell_type": "code",
      "metadata": {
        "id": "PzhgtylgrLhR",
        "outputId": "f510972c-bd94-4895-ed5b-0e249da5d7b5",
        "colab": {
          "base_uri": "https://localhost:8080/",
          "height": 485
        }
      },
      "source": [
        "dados.query(\"NU_IDADE <= 14\")[\"SG_UF_RESIDENCIA\"].value_counts()"
      ],
      "execution_count": null,
      "outputs": [
        {
          "output_type": "execute_result",
          "data": {
            "text/plain": [
              "PE    18\n",
              "CE    15\n",
              "BA    14\n",
              "PA    12\n",
              "SP    11\n",
              "MG    11\n",
              "MA     9\n",
              "PB     7\n",
              "PI     7\n",
              "GO     7\n",
              "DF     4\n",
              "MT     4\n",
              "AM     4\n",
              "TO     3\n",
              "PR     3\n",
              "SE     3\n",
              "SC     2\n",
              "RO     2\n",
              "AL     2\n",
              "RJ     1\n",
              "RS     1\n",
              "MS     1\n",
              "ES     1\n",
              "AC     1\n",
              "RN     1\n",
              "AP     1\n",
              "Name: SG_UF_RESIDENCIA, dtype: int64"
            ]
          },
          "metadata": {
            "tags": []
          },
          "execution_count": 28
        }
      ]
    },
    {
      "cell_type": "code",
      "metadata": {
        "id": "kdSOwXFQraAL"
      },
      "source": [
        "dados.query(\"NU_IDADE <= 14\")[\"SG_UF_RESIDENCIA\"][\"SG_UF_RESIDENCIA\"].value_counts()"
      ],
      "execution_count": null,
      "outputs": []
    },
    {
      "cell_type": "markdown",
      "metadata": {
        "id": "FW7WQOEYJ1CG"
      },
      "source": [
        "Desafio03: Adicionar título no gráfico\n"
      ]
    },
    {
      "cell_type": "code",
      "metadata": {
        "id": "_r_Cdb07J73o",
        "outputId": "eef4d268-3588-4eb4-84a1-c9872060b8e5",
        "colab": {
          "base_uri": "https://localhost:8080/",
          "height": 299
        }
      },
      "source": [
        "import matplotlib.pyplot as plt\n",
        "#dados[\"NU_IDADE\"].hist()\n",
        "frequencia = plt.hist(dados[\"NU_IDADE\"], 30,density=True )\n",
        "plt.title(\"Histograma de idades\")"
      ],
      "execution_count": null,
      "outputs": [
        {
          "output_type": "execute_result",
          "data": {
            "text/plain": [
              "Text(0.5, 1.0, 'Histograma de idades')"
            ]
          },
          "metadata": {
            "tags": []
          },
          "execution_count": 72
        },
        {
          "output_type": "display_data",
          "data": {
            "image/png": "[encoded data removed]",
            "text/plain": [
              "<Figure size 432x288 with 1 Axes>"
            ]
          },
          "metadata": {
            "tags": [],
            "needs_background": "light"
          }
        }
      ]
    },
    {
      "cell_type": "markdown",
      "metadata": {
        "id": "nq3NZBV2Mbdb"
      },
      "source": [
        "Desafio04: Plotar os Histogramas das idades dos do treineiro e não treineiros.\n"
      ]
    },
    {
      "cell_type": "code",
      "metadata": {
        "id": "CfeLtcxsvvpU",
        "outputId": "fd1c63a4-2498-4f5d-8017-fc201ba23979",
        "colab": {
          "base_uri": "https://localhost:8080/",
          "height": 69
        }
      },
      "source": [
        "dados[\"IN_TREINEIRO\"].value_counts(normalize= True)"
      ],
      "execution_count": null,
      "outputs": [
        {
          "output_type": "execute_result",
          "data": {
            "text/plain": [
              "0    0.879094\n",
              "1    0.120906\n",
              "Name: IN_TREINEIRO, dtype: float64"
            ]
          },
          "metadata": {
            "tags": []
          },
          "execution_count": 46
        }
      ]
    },
    {
      "cell_type": "code",
      "metadata": {
        "id": "QqHj1mx_vhxp",
        "outputId": "811c09c8-fcbc-4c88-e639-8858e76d91f3",
        "colab": {
          "base_uri": "https://localhost:8080/",
          "height": 513
        }
      },
      "source": [
        "dados[\"IN_TREINEIRO\"].value_counts(normalize= True).plot.bar(figsize=(10,8))\n",
        "plt.title(\"Histograma de treineiros e não treineiros\")"
      ],
      "execution_count": null,
      "outputs": [
        {
          "output_type": "execute_result",
          "data": {
            "text/plain": [
              "Text(0.5, 1.0, 'Histograma de treineiros e não treineiros')"
            ]
          },
          "metadata": {
            "tags": []
          },
          "execution_count": 75
        },
        {
          "output_type": "display_data",
          "data": {
            "image/png": "[encoded data removed]",
            "text/plain": [
              "<Figure size 720x576 with 1 Axes>"
            ]
          },
          "metadata": {
            "tags": [],
            "needs_background": "light"
          }
        }
      ]
    },
    {
      "cell_type": "markdown",
      "metadata": {
        "id": "_U5_RrwsvaWu"
      },
      "source": [
        "Desafio05: Comparar as distribuições das provas em inglês espanhol"
      ]
    },
    {
      "cell_type": "code",
      "metadata": {
        "id": "Azkmv5Flw-Wd",
        "outputId": "4733d9ae-7bda-4dfd-87fd-9a64731ad178",
        "colab": {
          "base_uri": "https://localhost:8080/",
          "height": 69
        }
      },
      "source": [
        "dados[\"TP_LINGUA\"].value_counts(normalize= True) \n",
        "#0 - inglês \n",
        "#1 - espanhol"
      ],
      "execution_count": null,
      "outputs": [
        {
          "output_type": "execute_result",
          "data": {
            "text/plain": [
              "1    0.524486\n",
              "0    0.475514\n",
              "Name: TP_LINGUA, dtype: float64"
            ]
          },
          "metadata": {
            "tags": []
          },
          "execution_count": 51
        }
      ]
    },
    {
      "cell_type": "markdown",
      "metadata": {
        "id": "YgimilRbvbAh"
      },
      "source": [
        "Desafio06: Explorar a documentações e visualizações com matplotlib ou pandas e gerar novas visualizações."
      ]
    },
    {
      "cell_type": "markdown",
      "metadata": {
        "id": "wUrc1oveLi0d"
      },
      "source": [
        "##Aula 2"
      ]
    },
    {
      "cell_type": "code",
      "metadata": {
        "id": "8X5ayvoLviFa",
        "outputId": "a74bd149-e3c9-4a6d-efd3-0d9b4e46d2c6",
        "colab": {
          "base_uri": "https://localhost:8080/",
          "height": 531
        }
      },
      "source": [
        "import seaborn as sns \n",
        "import matplotlib.pyplot as plt\n",
        "plt.figure(figsize = (10,8)) \n",
        "sns.boxplot(x=\"Q006\", y = \"NU_NOTA_MT\", data = dados)\n",
        "plt.title(\"Boxplot das notas de matemática por renda\")"
      ],
      "execution_count": null,
      "outputs": [
        {
          "output_type": "execute_result",
          "data": {
            "text/plain": [
              "Text(0.5, 1.0, 'Boxplot das notas de matemática por renda')"
            ]
          },
          "metadata": {
            "tags": []
          },
          "execution_count": 67
        },
        {
          "output_type": "display_data",
          "data": {
            "image/png": "[encoded data removed]",
            "text/plain": [
              "<Figure size 720x576 with 1 Axes>"
            ]
          },
          "metadata": {
            "tags": [],
            "needs_background": "light"
          }
        }
      ]
    },
    {
      "cell_type": "code",
      "metadata": {
        "id": "TdlggZB80IZd",
        "outputId": "5010f0c9-2a32-4f31-ac13-c29fc79faeaf",
        "colab": {
          "base_uri": "https://localhost:8080/",
          "height": 52
        }
      },
      "source": [
        "renda_ordenada = dados[\"Q006\"].unique() #desordenado\n",
        "renda_ordenada.sort() # não retorna\n",
        "renda_ordenada"
      ],
      "execution_count": null,
      "outputs": [
        {
          "output_type": "execute_result",
          "data": {
            "text/plain": [
              "array(['A', 'B', 'C', 'D', 'E', 'F', 'G', 'H', 'I', 'J', 'K', 'L', 'M',\n",
              "       'N', 'O', 'P', 'Q'], dtype=object)"
            ]
          },
          "metadata": {
            "tags": []
          },
          "execution_count": 72
        }
      ]
    },
    {
      "cell_type": "code",
      "metadata": {
        "id": "g4vb79Oh073n",
        "outputId": "a9a39400-dd69-4ade-8c19-c90fd48e4b8c",
        "colab": {
          "base_uri": "https://localhost:8080/",
          "height": 421
        }
      },
      "source": [
        "plt.figure(figsize = (10,6)) \n",
        "sns.boxplot(x=\"Q006\", y = \"NU_NOTA_MT\", data = dados, order =renda_ordenada )\n",
        "plt.title(\"Boxplot das notas de matemática por renda - ordenado\")   \n",
        "#Conforme a nota aumenta, diminui os outliers"
      ],
      "execution_count": null,
      "outputs": [
        {
          "output_type": "execute_result",
          "data": {
            "text/plain": [
              "Text(0.5, 1.0, 'Boxplot das notas de matemática por renda - ordenado')"
            ]
          },
          "metadata": {
            "tags": []
          },
          "execution_count": 74
        },
        {
          "output_type": "display_data",
          "data": {
            "image/png": "[encoded data removed]",
            "text/plain": [
              "<Figure size 720x432 with 1 Axes>"
            ]
          },
          "metadata": {
            "tags": [],
            "needs_background": "light"
          }
        }
      ]
    },
    {
      "cell_type": "code",
      "metadata": {
        "id": "-omJS3bm2MjY",
        "outputId": "76ed7299-9f38-4db6-b318-ae69718cbf8f",
        "colab": {
          "base_uri": "https://localhost:8080/",
          "height": 121
        }
      },
      "source": [
        "dados[provas].sum() # soma as colunas"
      ],
      "execution_count": null,
      "outputs": [
        {
          "output_type": "execute_result",
          "data": {
            "text/plain": [
              "NU_NOTA_CN         44334986.1\n",
              "NU_NOTA_CH         49743676.1\n",
              "NU_NOTA_MT         48563933.8\n",
              "NU_NOTA_LC         51027844.9\n",
              "NU_NOTA_REDACAO    56038440.0\n",
              "dtype: float64"
            ]
          },
          "metadata": {
            "tags": []
          },
          "execution_count": 78
        }
      ]
    },
    {
      "cell_type": "code",
      "metadata": {
        "id": "KrlRrHs42Xxs",
        "outputId": "31e66d4e-45cd-4af7-9986-e2dec9579177",
        "colab": {
          "base_uri": "https://localhost:8080/",
          "height": 225
        }
      },
      "source": [
        "dados[provas].sum(axis = 1) #soma as linhas, ou seja as notas de cada um dos inscritos ( as que estão dentro de provas)\n"
      ],
      "execution_count": null,
      "outputs": [
        {
          "output_type": "execute_result",
          "data": {
            "text/plain": [
              "0         2288.9\n",
              "1         1184.6\n",
              "2         2350.5\n",
              "3         2555.7\n",
              "4         2803.5\n",
              "           ...  \n",
              "127375    2867.4\n",
              "127376    2218.5\n",
              "127377    1453.9\n",
              "127378    2573.9\n",
              "127379    2287.8\n",
              "Length: 127380, dtype: float64"
            ]
          },
          "metadata": {
            "tags": []
          },
          "execution_count": 80
        }
      ]
    },
    {
      "cell_type": "code",
      "metadata": {
        "id": "mrUFIV6_2XU7",
        "outputId": "a639dfaf-4545-4b46-9a58-5b3982f7a40a",
        "colab": {
          "base_uri": "https://localhost:8080/",
          "height": 251
        }
      },
      "source": [
        "dados[\"NU_NOTA_TOTAL\"] = dados[provas].sum(axis = 1)#adidionei uma coluna nova com essa soma\n",
        "dados.head()"
      ],
      "execution_count": null,
      "outputs": [
        {
          "output_type": "execute_result",
          "data": {
            "text/html": [
              "<div>\n",
              "<style scoped>\n",
              "    .dataframe tbody tr th:only-of-type {\n",
              "        vertical-align: middle;\n",
              "    }\n",
              "\n",
              "    .dataframe tbody tr th {\n",
              "        vertical-align: top;\n",
              "    }\n",
              "\n",
              "    .dataframe thead th {\n",
              "        text-align: right;\n",
              "    }\n",
              "</style>\n",
              "<table border=\"1\" class=\"dataframe\">\n",
              "  <thead>\n",
              "    <tr style=\"text-align: right;\">\n",
              "      <th></th>\n",
              "      <th>NU_INSCRICAO</th>\n",
              "      <th>NU_ANO</th>\n",
              "      <th>CO_MUNICIPIO_RESIDENCIA</th>\n",
              "      <th>NO_MUNICIPIO_RESIDENCIA</th>\n",
              "      <th>CO_UF_RESIDENCIA</th>\n",
              "      <th>SG_UF_RESIDENCIA</th>\n",
              "      <th>NU_IDADE</th>\n",
              "      <th>TP_SEXO</th>\n",
              "      <th>TP_ESTADO_CIVIL</th>\n",
              "      <th>TP_COR_RACA</th>\n",
              "      <th>TP_NACIONALIDADE</th>\n",
              "      <th>CO_MUNICIPIO_NASCIMENTO</th>\n",
              "      <th>NO_MUNICIPIO_NASCIMENTO</th>\n",
              "      <th>CO_UF_NASCIMENTO</th>\n",
              "      <th>SG_UF_NASCIMENTO</th>\n",
              "      <th>TP_ST_CONCLUSAO</th>\n",
              "      <th>TP_ANO_CONCLUIU</th>\n",
              "      <th>TP_ESCOLA</th>\n",
              "      <th>TP_ENSINO</th>\n",
              "      <th>IN_TREINEIRO</th>\n",
              "      <th>CO_ESCOLA</th>\n",
              "      <th>CO_MUNICIPIO_ESC</th>\n",
              "      <th>NO_MUNICIPIO_ESC</th>\n",
              "      <th>CO_UF_ESC</th>\n",
              "      <th>SG_UF_ESC</th>\n",
              "      <th>TP_DEPENDENCIA_ADM_ESC</th>\n",
              "      <th>TP_LOCALIZACAO_ESC</th>\n",
              "      <th>TP_SIT_FUNC_ESC</th>\n",
              "      <th>IN_BAIXA_VISAO</th>\n",
              "      <th>IN_CEGUEIRA</th>\n",
              "      <th>IN_SURDEZ</th>\n",
              "      <th>IN_DEFICIENCIA_AUDITIVA</th>\n",
              "      <th>IN_SURDO_CEGUEIRA</th>\n",
              "      <th>IN_DEFICIENCIA_FISICA</th>\n",
              "      <th>IN_DEFICIENCIA_MENTAL</th>\n",
              "      <th>IN_DEFICIT_ATENCAO</th>\n",
              "      <th>IN_DISLEXIA</th>\n",
              "      <th>IN_DISCALCULIA</th>\n",
              "      <th>IN_AUTISMO</th>\n",
              "      <th>IN_VISAO_MONOCULAR</th>\n",
              "      <th>...</th>\n",
              "      <th>TX_RESPOSTAS_LC</th>\n",
              "      <th>TX_RESPOSTAS_MT</th>\n",
              "      <th>TP_LINGUA</th>\n",
              "      <th>TX_GABARITO_CN</th>\n",
              "      <th>TX_GABARITO_CH</th>\n",
              "      <th>TX_GABARITO_LC</th>\n",
              "      <th>TX_GABARITO_MT</th>\n",
              "      <th>TP_STATUS_REDACAO</th>\n",
              "      <th>NU_NOTA_COMP1</th>\n",
              "      <th>NU_NOTA_COMP2</th>\n",
              "      <th>NU_NOTA_COMP3</th>\n",
              "      <th>NU_NOTA_COMP4</th>\n",
              "      <th>NU_NOTA_COMP5</th>\n",
              "      <th>NU_NOTA_REDACAO</th>\n",
              "      <th>Q001</th>\n",
              "      <th>Q002</th>\n",
              "      <th>Q003</th>\n",
              "      <th>Q004</th>\n",
              "      <th>Q005</th>\n",
              "      <th>Q006</th>\n",
              "      <th>Q007</th>\n",
              "      <th>Q008</th>\n",
              "      <th>Q009</th>\n",
              "      <th>Q010</th>\n",
              "      <th>Q011</th>\n",
              "      <th>Q012</th>\n",
              "      <th>Q013</th>\n",
              "      <th>Q014</th>\n",
              "      <th>Q015</th>\n",
              "      <th>Q016</th>\n",
              "      <th>Q017</th>\n",
              "      <th>Q018</th>\n",
              "      <th>Q019</th>\n",
              "      <th>Q020</th>\n",
              "      <th>Q021</th>\n",
              "      <th>Q022</th>\n",
              "      <th>Q023</th>\n",
              "      <th>Q024</th>\n",
              "      <th>Q025</th>\n",
              "      <th>NU_NOTA_TOTAL</th>\n",
              "    </tr>\n",
              "  </thead>\n",
              "  <tbody>\n",
              "    <tr>\n",
              "      <th>0</th>\n",
              "      <td>190001004661</td>\n",
              "      <td>2019</td>\n",
              "      <td>1506138</td>\n",
              "      <td>Redenção</td>\n",
              "      <td>15</td>\n",
              "      <td>PA</td>\n",
              "      <td>17</td>\n",
              "      <td>M</td>\n",
              "      <td>1</td>\n",
              "      <td>3</td>\n",
              "      <td>1</td>\n",
              "      <td>1506138.0</td>\n",
              "      <td>Redenção</td>\n",
              "      <td>15.0</td>\n",
              "      <td>PA</td>\n",
              "      <td>3</td>\n",
              "      <td>0</td>\n",
              "      <td>1</td>\n",
              "      <td>NaN</td>\n",
              "      <td>1</td>\n",
              "      <td>NaN</td>\n",
              "      <td>NaN</td>\n",
              "      <td>NaN</td>\n",
              "      <td>NaN</td>\n",
              "      <td>NaN</td>\n",
              "      <td>NaN</td>\n",
              "      <td>NaN</td>\n",
              "      <td>NaN</td>\n",
              "      <td>0</td>\n",
              "      <td>0</td>\n",
              "      <td>0</td>\n",
              "      <td>0</td>\n",
              "      <td>0</td>\n",
              "      <td>0</td>\n",
              "      <td>0</td>\n",
              "      <td>0</td>\n",
              "      <td>0</td>\n",
              "      <td>0</td>\n",
              "      <td>0</td>\n",
              "      <td>0</td>\n",
              "      <td>...</td>\n",
              "      <td>99999CCCABBCAADDBCEBCCADBEEBDECBAABDEACACAEABB...</td>\n",
              "      <td>DEEDCAECDDEEECBCBECABEBAECBBCDAECAEBBBBBDCCDB</td>\n",
              "      <td>1</td>\n",
              "      <td>DEADBAAAEBEECEBCBCBCBDADAEABCEDDDDADCBEECACBC</td>\n",
              "      <td>ACACEEBCCBABADBBBACDBBACCCCADCEBADCBEEDBBEADB</td>\n",
              "      <td>EBBADCABDABACBCEBDEEAAADDBECDECDDBADBCDAAECBCC...</td>\n",
              "      <td>AADDDBEEEBEDDBEBACABCDBABECECACAECDCBDCCEDCDA</td>\n",
              "      <td>1.0</td>\n",
              "      <td>60.0</td>\n",
              "      <td>100.0</td>\n",
              "      <td>80.0</td>\n",
              "      <td>80.0</td>\n",
              "      <td>100.0</td>\n",
              "      <td>420.0</td>\n",
              "      <td>B</td>\n",
              "      <td>B</td>\n",
              "      <td>A</td>\n",
              "      <td>A</td>\n",
              "      <td>4</td>\n",
              "      <td>B</td>\n",
              "      <td>A</td>\n",
              "      <td>C</td>\n",
              "      <td>B</td>\n",
              "      <td>A</td>\n",
              "      <td>C</td>\n",
              "      <td>B</td>\n",
              "      <td>A</td>\n",
              "      <td>A</td>\n",
              "      <td>A</td>\n",
              "      <td>A</td>\n",
              "      <td>A</td>\n",
              "      <td>A</td>\n",
              "      <td>A</td>\n",
              "      <td>B</td>\n",
              "      <td>A</td>\n",
              "      <td>C</td>\n",
              "      <td>A</td>\n",
              "      <td>B</td>\n",
              "      <td>B</td>\n",
              "      <td>2288.9</td>\n",
              "    </tr>\n",
              "    <tr>\n",
              "      <th>1</th>\n",
              "      <td>190001004674</td>\n",
              "      <td>2019</td>\n",
              "      <td>1504208</td>\n",
              "      <td>Marabá</td>\n",
              "      <td>15</td>\n",
              "      <td>PA</td>\n",
              "      <td>23</td>\n",
              "      <td>M</td>\n",
              "      <td>1</td>\n",
              "      <td>3</td>\n",
              "      <td>1</td>\n",
              "      <td>1504208.0</td>\n",
              "      <td>Marabá</td>\n",
              "      <td>15.0</td>\n",
              "      <td>PA</td>\n",
              "      <td>1</td>\n",
              "      <td>3</td>\n",
              "      <td>1</td>\n",
              "      <td>1.0</td>\n",
              "      <td>0</td>\n",
              "      <td>NaN</td>\n",
              "      <td>NaN</td>\n",
              "      <td>NaN</td>\n",
              "      <td>NaN</td>\n",
              "      <td>NaN</td>\n",
              "      <td>NaN</td>\n",
              "      <td>NaN</td>\n",
              "      <td>NaN</td>\n",
              "      <td>0</td>\n",
              "      <td>0</td>\n",
              "      <td>0</td>\n",
              "      <td>0</td>\n",
              "      <td>0</td>\n",
              "      <td>0</td>\n",
              "      <td>0</td>\n",
              "      <td>0</td>\n",
              "      <td>0</td>\n",
              "      <td>0</td>\n",
              "      <td>0</td>\n",
              "      <td>0</td>\n",
              "      <td>...</td>\n",
              "      <td>99999ABCEBCEDDECEEEBBCCEECCABDABEEBCDEAEBBEAEA...</td>\n",
              "      <td>NaN</td>\n",
              "      <td>1</td>\n",
              "      <td>NaN</td>\n",
              "      <td>CBABADBBCEEEBCBADCBEEDBBEADBBACDBBACCCCADACAC</td>\n",
              "      <td>BBEDABDACACBABAECBBCCADCEBDBBCDDEEAAADDBECDECA...</td>\n",
              "      <td>NaN</td>\n",
              "      <td>1.0</td>\n",
              "      <td>80.0</td>\n",
              "      <td>100.0</td>\n",
              "      <td>80.0</td>\n",
              "      <td>80.0</td>\n",
              "      <td>60.0</td>\n",
              "      <td>400.0</td>\n",
              "      <td>C</td>\n",
              "      <td>C</td>\n",
              "      <td>A</td>\n",
              "      <td>A</td>\n",
              "      <td>4</td>\n",
              "      <td>B</td>\n",
              "      <td>A</td>\n",
              "      <td>B</td>\n",
              "      <td>C</td>\n",
              "      <td>A</td>\n",
              "      <td>A</td>\n",
              "      <td>B</td>\n",
              "      <td>B</td>\n",
              "      <td>B</td>\n",
              "      <td>A</td>\n",
              "      <td>A</td>\n",
              "      <td>A</td>\n",
              "      <td>A</td>\n",
              "      <td>B</td>\n",
              "      <td>A</td>\n",
              "      <td>A</td>\n",
              "      <td>B</td>\n",
              "      <td>A</td>\n",
              "      <td>A</td>\n",
              "      <td>B</td>\n",
              "      <td>1184.6</td>\n",
              "    </tr>\n",
              "    <tr>\n",
              "      <th>2</th>\n",
              "      <td>190001004722</td>\n",
              "      <td>2019</td>\n",
              "      <td>1501402</td>\n",
              "      <td>Belém</td>\n",
              "      <td>15</td>\n",
              "      <td>PA</td>\n",
              "      <td>35</td>\n",
              "      <td>F</td>\n",
              "      <td>2</td>\n",
              "      <td>1</td>\n",
              "      <td>1</td>\n",
              "      <td>1501402.0</td>\n",
              "      <td>Belém</td>\n",
              "      <td>15.0</td>\n",
              "      <td>PA</td>\n",
              "      <td>1</td>\n",
              "      <td>12</td>\n",
              "      <td>1</td>\n",
              "      <td>1.0</td>\n",
              "      <td>0</td>\n",
              "      <td>NaN</td>\n",
              "      <td>NaN</td>\n",
              "      <td>NaN</td>\n",
              "      <td>NaN</td>\n",
              "      <td>NaN</td>\n",
              "      <td>NaN</td>\n",
              "      <td>NaN</td>\n",
              "      <td>NaN</td>\n",
              "      <td>0</td>\n",
              "      <td>0</td>\n",
              "      <td>0</td>\n",
              "      <td>0</td>\n",
              "      <td>0</td>\n",
              "      <td>0</td>\n",
              "      <td>0</td>\n",
              "      <td>0</td>\n",
              "      <td>0</td>\n",
              "      <td>0</td>\n",
              "      <td>0</td>\n",
              "      <td>0</td>\n",
              "      <td>...</td>\n",
              "      <td>99999ECBCECEBBABECCCECECCEECCDECEEEDADDDDECEDD...</td>\n",
              "      <td>DDBEADEBBCADCEEACABECBCEBADECADCEDAACBDABABCE</td>\n",
              "      <td>1</td>\n",
              "      <td>AAECACDEADCBCDDDBCBDADAEABCEBABEEBCBEECEBDADC</td>\n",
              "      <td>CBABADBBCEEEBCBADCBEEDBBEADBBACDBBACCCCADACAC</td>\n",
              "      <td>BBEDABDACACBABAECBBCCADCEBDBBCDDEEAAADDBECDECA...</td>\n",
              "      <td>EEEADBEBACABCDBABECECACDCBDCCEDCDABEDECDDDBAA</td>\n",
              "      <td>1.0</td>\n",
              "      <td>100.0</td>\n",
              "      <td>120.0</td>\n",
              "      <td>120.0</td>\n",
              "      <td>100.0</td>\n",
              "      <td>120.0</td>\n",
              "      <td>560.0</td>\n",
              "      <td>C</td>\n",
              "      <td>A</td>\n",
              "      <td>B</td>\n",
              "      <td>B</td>\n",
              "      <td>5</td>\n",
              "      <td>C</td>\n",
              "      <td>A</td>\n",
              "      <td>B</td>\n",
              "      <td>C</td>\n",
              "      <td>A</td>\n",
              "      <td>A</td>\n",
              "      <td>B</td>\n",
              "      <td>A</td>\n",
              "      <td>B</td>\n",
              "      <td>A</td>\n",
              "      <td>A</td>\n",
              "      <td>A</td>\n",
              "      <td>A</td>\n",
              "      <td>B</td>\n",
              "      <td>A</td>\n",
              "      <td>B</td>\n",
              "      <td>B</td>\n",
              "      <td>A</td>\n",
              "      <td>A</td>\n",
              "      <td>B</td>\n",
              "      <td>2350.5</td>\n",
              "    </tr>\n",
              "    <tr>\n",
              "      <th>3</th>\n",
              "      <td>190001004735</td>\n",
              "      <td>2019</td>\n",
              "      <td>1507300</td>\n",
              "      <td>São Félix do Xingu</td>\n",
              "      <td>15</td>\n",
              "      <td>PA</td>\n",
              "      <td>23</td>\n",
              "      <td>F</td>\n",
              "      <td>1</td>\n",
              "      <td>3</td>\n",
              "      <td>1</td>\n",
              "      <td>1505437.0</td>\n",
              "      <td>Ourilândia do Norte</td>\n",
              "      <td>15.0</td>\n",
              "      <td>PA</td>\n",
              "      <td>1</td>\n",
              "      <td>7</td>\n",
              "      <td>1</td>\n",
              "      <td>NaN</td>\n",
              "      <td>0</td>\n",
              "      <td>NaN</td>\n",
              "      <td>NaN</td>\n",
              "      <td>NaN</td>\n",
              "      <td>NaN</td>\n",
              "      <td>NaN</td>\n",
              "      <td>NaN</td>\n",
              "      <td>NaN</td>\n",
              "      <td>NaN</td>\n",
              "      <td>0</td>\n",
              "      <td>0</td>\n",
              "      <td>0</td>\n",
              "      <td>0</td>\n",
              "      <td>0</td>\n",
              "      <td>0</td>\n",
              "      <td>0</td>\n",
              "      <td>0</td>\n",
              "      <td>0</td>\n",
              "      <td>0</td>\n",
              "      <td>0</td>\n",
              "      <td>0</td>\n",
              "      <td>...</td>\n",
              "      <td>99999BABCDABBCBDDAAECADBDDADDCBCEEDCAEBCEAEABD...</td>\n",
              "      <td>CBDEBBCBDEBCABCDBDEDADCCBEDBCAECEBEBDEBAEECBC</td>\n",
              "      <td>1</td>\n",
              "      <td>BEEAAEBEEBADEADDADAEABCEDDDBCBCBCCACBCDADCCEB</td>\n",
              "      <td>EEBCEEDBADBBCBABCCADCEBACDBBACCACACBEADBBADCB</td>\n",
              "      <td>ADBBEDCABAABBCBCDAAECDDDBAAAECADECDCEBDEEAECBD...</td>\n",
              "      <td>BEDEEEAADBEBACABCDBABECECACADCBDCCEDCDABECDDD</td>\n",
              "      <td>1.0</td>\n",
              "      <td>100.0</td>\n",
              "      <td>120.0</td>\n",
              "      <td>120.0</td>\n",
              "      <td>120.0</td>\n",
              "      <td>40.0</td>\n",
              "      <td>500.0</td>\n",
              "      <td>E</td>\n",
              "      <td>C</td>\n",
              "      <td>A</td>\n",
              "      <td>A</td>\n",
              "      <td>1</td>\n",
              "      <td>B</td>\n",
              "      <td>A</td>\n",
              "      <td>B</td>\n",
              "      <td>C</td>\n",
              "      <td>A</td>\n",
              "      <td>A</td>\n",
              "      <td>B</td>\n",
              "      <td>A</td>\n",
              "      <td>A</td>\n",
              "      <td>A</td>\n",
              "      <td>A</td>\n",
              "      <td>A</td>\n",
              "      <td>A</td>\n",
              "      <td>B</td>\n",
              "      <td>A</td>\n",
              "      <td>A</td>\n",
              "      <td>B</td>\n",
              "      <td>A</td>\n",
              "      <td>A</td>\n",
              "      <td>B</td>\n",
              "      <td>2555.7</td>\n",
              "    </tr>\n",
              "    <tr>\n",
              "      <th>4</th>\n",
              "      <td>190001004776</td>\n",
              "      <td>2019</td>\n",
              "      <td>1500800</td>\n",
              "      <td>Ananindeua</td>\n",
              "      <td>15</td>\n",
              "      <td>PA</td>\n",
              "      <td>16</td>\n",
              "      <td>F</td>\n",
              "      <td>1</td>\n",
              "      <td>3</td>\n",
              "      <td>1</td>\n",
              "      <td>1500800.0</td>\n",
              "      <td>Ananindeua</td>\n",
              "      <td>15.0</td>\n",
              "      <td>PA</td>\n",
              "      <td>3</td>\n",
              "      <td>0</td>\n",
              "      <td>1</td>\n",
              "      <td>NaN</td>\n",
              "      <td>1</td>\n",
              "      <td>NaN</td>\n",
              "      <td>NaN</td>\n",
              "      <td>NaN</td>\n",
              "      <td>NaN</td>\n",
              "      <td>NaN</td>\n",
              "      <td>NaN</td>\n",
              "      <td>NaN</td>\n",
              "      <td>NaN</td>\n",
              "      <td>0</td>\n",
              "      <td>0</td>\n",
              "      <td>0</td>\n",
              "      <td>0</td>\n",
              "      <td>0</td>\n",
              "      <td>0</td>\n",
              "      <td>0</td>\n",
              "      <td>0</td>\n",
              "      <td>0</td>\n",
              "      <td>0</td>\n",
              "      <td>0</td>\n",
              "      <td>0</td>\n",
              "      <td>...</td>\n",
              "      <td>EBCAB99999BBCECBCACBEACBDAABDBCBBDACEBBACDCAEC...</td>\n",
              "      <td>AECCBBCBBCBDEDECACBAABEDABBEDDADCEADDBEBDBBEB</td>\n",
              "      <td>0</td>\n",
              "      <td>DEADBAAAEBEECEBCBCBCBDADAEABCEDDDDADCBEECACBC</td>\n",
              "      <td>ACACEEBCCBABADBBBACDBBACCCCADCEBADCBEEDBBEADB</td>\n",
              "      <td>EBBADCABDABACBCEBDEEAAADDBECDECDDBADBCDAAECBCC...</td>\n",
              "      <td>AADDDBEEEBEDDBEBACABCDBABECECACAECDCBDCCEDCDA</td>\n",
              "      <td>1.0</td>\n",
              "      <td>160.0</td>\n",
              "      <td>140.0</td>\n",
              "      <td>160.0</td>\n",
              "      <td>160.0</td>\n",
              "      <td>160.0</td>\n",
              "      <td>780.0</td>\n",
              "      <td>E</td>\n",
              "      <td>E</td>\n",
              "      <td>B</td>\n",
              "      <td>D</td>\n",
              "      <td>3</td>\n",
              "      <td>E</td>\n",
              "      <td>A</td>\n",
              "      <td>B</td>\n",
              "      <td>C</td>\n",
              "      <td>B</td>\n",
              "      <td>A</td>\n",
              "      <td>B</td>\n",
              "      <td>A</td>\n",
              "      <td>A</td>\n",
              "      <td>A</td>\n",
              "      <td>A</td>\n",
              "      <td>A</td>\n",
              "      <td>A</td>\n",
              "      <td>B</td>\n",
              "      <td>A</td>\n",
              "      <td>A</td>\n",
              "      <td>D</td>\n",
              "      <td>A</td>\n",
              "      <td>A</td>\n",
              "      <td>B</td>\n",
              "      <td>2803.5</td>\n",
              "    </tr>\n",
              "  </tbody>\n",
              "</table>\n",
              "<p>5 rows × 137 columns</p>\n",
              "</div>"
            ],
            "text/plain": [
              "   NU_INSCRICAO  NU_ANO  CO_MUNICIPIO_RESIDENCIA  ... Q024  Q025 NU_NOTA_TOTAL\n",
              "0  190001004661    2019                  1506138  ...    B     B        2288.9\n",
              "1  190001004674    2019                  1504208  ...    A     B        1184.6\n",
              "2  190001004722    2019                  1501402  ...    A     B        2350.5\n",
              "3  190001004735    2019                  1507300  ...    A     B        2555.7\n",
              "4  190001004776    2019                  1500800  ...    A     B        2803.5\n",
              "\n",
              "[5 rows x 137 columns]"
            ]
          },
          "metadata": {
            "tags": []
          },
          "execution_count": 83
        }
      ]
    },
    {
      "cell_type": "code",
      "metadata": {
        "id": "2A7qzdmT25zY",
        "outputId": "0197a509-b7cc-4af0-e91f-fc2e5cee5915",
        "colab": {
          "base_uri": "https://localhost:8080/",
          "height": 531
        }
      },
      "source": [
        "plt.figure(figsize = (10,8)) \n",
        "sns.boxplot(x=\"Q006\", y = \"NU_NOTA_TOTAL\", data = dados, order =renda_ordenada )\n",
        "plt.title(\"Boxplot das notas somadas - ordenado\")   \n",
        "#Conforme a nota aumenta, diminui os outliers"
      ],
      "execution_count": null,
      "outputs": [
        {
          "output_type": "execute_result",
          "data": {
            "text/plain": [
              "Text(0.5, 1.0, 'Boxplot das notas somadas - ordenado')"
            ]
          },
          "metadata": {
            "tags": []
          },
          "execution_count": 96
        },
        {
          "output_type": "display_data",
          "data": {
            "image/png": "[encoded data removed]",
            "text/plain": [
              "<Figure size 720x576 with 1 Axes>"
            ]
          },
          "metadata": {
            "tags": [],
            "needs_background": "light"
          }
        }
      ]
    },
    {
      "cell_type": "code",
      "metadata": {
        "id": "cePgc6kM3tF_",
        "outputId": "e1abbfd0-e832-4f23-a3d3-e8a8ae619259",
        "colab": {
          "base_uri": "https://localhost:8080/",
          "height": 387
        }
      },
      "source": [
        "sns.displot(dados, x = \"NU_NOTA_TOTAL\")"
      ],
      "execution_count": null,
      "outputs": [
        {
          "output_type": "execute_result",
          "data": {
            "text/plain": [
              "<seaborn.axisgrid.FacetGrid at 0x7f0e1e210940>"
            ]
          },
          "metadata": {
            "tags": []
          },
          "execution_count": 88
        },
        {
          "output_type": "display_data",
          "data": {
            "image/png": "[encoded data removed]",
            "text/plain": [
              "<Figure size 360x360 with 1 Axes>"
            ]
          },
          "metadata": {
            "tags": [],
            "needs_background": "light"
          }
        }
      ]
    },
    {
      "cell_type": "code",
      "metadata": {
        "id": "wnnBJ8-t4Bue",
        "outputId": "8f6a028b-3343-4140-b88c-42dc83d53690",
        "colab": {
          "base_uri": "https://localhost:8080/",
          "height": 415
        }
      },
      "source": [
        "provas = [\"NU_NOTA_CN\",\"NU_NOTA_CH\",\"NU_NOTA_MT\",\"NU_NOTA_LC\",\"NU_NOTA_REDACAO\"]\n",
        "provas.append(\"NU_NOTA_TOTAL\")\n",
        "dados[provas].query(\"NU_NOTA_TOTAL== 0\")"
      ],
      "execution_count": null,
      "outputs": [
        {
          "output_type": "execute_result",
          "data": {
            "text/html": [
              "<div>\n",
              "<style scoped>\n",
              "    .dataframe tbody tr th:only-of-type {\n",
              "        vertical-align: middle;\n",
              "    }\n",
              "\n",
              "    .dataframe tbody tr th {\n",
              "        vertical-align: top;\n",
              "    }\n",
              "\n",
              "    .dataframe thead th {\n",
              "        text-align: right;\n",
              "    }\n",
              "</style>\n",
              "<table border=\"1\" class=\"dataframe\">\n",
              "  <thead>\n",
              "    <tr style=\"text-align: right;\">\n",
              "      <th></th>\n",
              "      <th>NU_NOTA_CN</th>\n",
              "      <th>NU_NOTA_CH</th>\n",
              "      <th>NU_NOTA_MT</th>\n",
              "      <th>NU_NOTA_LC</th>\n",
              "      <th>NU_NOTA_REDACAO</th>\n",
              "      <th>NU_NOTA_TOTAL</th>\n",
              "    </tr>\n",
              "  </thead>\n",
              "  <tbody>\n",
              "    <tr>\n",
              "      <th>10</th>\n",
              "      <td>NaN</td>\n",
              "      <td>NaN</td>\n",
              "      <td>NaN</td>\n",
              "      <td>NaN</td>\n",
              "      <td>NaN</td>\n",
              "      <td>0.0</td>\n",
              "    </tr>\n",
              "    <tr>\n",
              "      <th>11</th>\n",
              "      <td>NaN</td>\n",
              "      <td>NaN</td>\n",
              "      <td>NaN</td>\n",
              "      <td>NaN</td>\n",
              "      <td>NaN</td>\n",
              "      <td>0.0</td>\n",
              "    </tr>\n",
              "    <tr>\n",
              "      <th>26</th>\n",
              "      <td>NaN</td>\n",
              "      <td>NaN</td>\n",
              "      <td>NaN</td>\n",
              "      <td>NaN</td>\n",
              "      <td>NaN</td>\n",
              "      <td>0.0</td>\n",
              "    </tr>\n",
              "    <tr>\n",
              "      <th>38</th>\n",
              "      <td>NaN</td>\n",
              "      <td>NaN</td>\n",
              "      <td>NaN</td>\n",
              "      <td>NaN</td>\n",
              "      <td>NaN</td>\n",
              "      <td>0.0</td>\n",
              "    </tr>\n",
              "    <tr>\n",
              "      <th>40</th>\n",
              "      <td>NaN</td>\n",
              "      <td>NaN</td>\n",
              "      <td>NaN</td>\n",
              "      <td>NaN</td>\n",
              "      <td>NaN</td>\n",
              "      <td>0.0</td>\n",
              "    </tr>\n",
              "    <tr>\n",
              "      <th>...</th>\n",
              "      <td>...</td>\n",
              "      <td>...</td>\n",
              "      <td>...</td>\n",
              "      <td>...</td>\n",
              "      <td>...</td>\n",
              "      <td>...</td>\n",
              "    </tr>\n",
              "    <tr>\n",
              "      <th>127351</th>\n",
              "      <td>NaN</td>\n",
              "      <td>NaN</td>\n",
              "      <td>NaN</td>\n",
              "      <td>NaN</td>\n",
              "      <td>NaN</td>\n",
              "      <td>0.0</td>\n",
              "    </tr>\n",
              "    <tr>\n",
              "      <th>127365</th>\n",
              "      <td>NaN</td>\n",
              "      <td>NaN</td>\n",
              "      <td>NaN</td>\n",
              "      <td>NaN</td>\n",
              "      <td>NaN</td>\n",
              "      <td>0.0</td>\n",
              "    </tr>\n",
              "    <tr>\n",
              "      <th>127366</th>\n",
              "      <td>NaN</td>\n",
              "      <td>NaN</td>\n",
              "      <td>NaN</td>\n",
              "      <td>NaN</td>\n",
              "      <td>NaN</td>\n",
              "      <td>0.0</td>\n",
              "    </tr>\n",
              "    <tr>\n",
              "      <th>127368</th>\n",
              "      <td>NaN</td>\n",
              "      <td>NaN</td>\n",
              "      <td>NaN</td>\n",
              "      <td>NaN</td>\n",
              "      <td>NaN</td>\n",
              "      <td>0.0</td>\n",
              "    </tr>\n",
              "    <tr>\n",
              "      <th>127374</th>\n",
              "      <td>NaN</td>\n",
              "      <td>NaN</td>\n",
              "      <td>NaN</td>\n",
              "      <td>NaN</td>\n",
              "      <td>NaN</td>\n",
              "      <td>0.0</td>\n",
              "    </tr>\n",
              "  </tbody>\n",
              "</table>\n",
              "<p>29162 rows × 6 columns</p>\n",
              "</div>"
            ],
            "text/plain": [
              "        NU_NOTA_CN  NU_NOTA_CH  ...  NU_NOTA_REDACAO  NU_NOTA_TOTAL\n",
              "10             NaN         NaN  ...              NaN            0.0\n",
              "11             NaN         NaN  ...              NaN            0.0\n",
              "26             NaN         NaN  ...              NaN            0.0\n",
              "38             NaN         NaN  ...              NaN            0.0\n",
              "40             NaN         NaN  ...              NaN            0.0\n",
              "...            ...         ...  ...              ...            ...\n",
              "127351         NaN         NaN  ...              NaN            0.0\n",
              "127365         NaN         NaN  ...              NaN            0.0\n",
              "127366         NaN         NaN  ...              NaN            0.0\n",
              "127368         NaN         NaN  ...              NaN            0.0\n",
              "127374         NaN         NaN  ...              NaN            0.0\n",
              "\n",
              "[29162 rows x 6 columns]"
            ]
          },
          "metadata": {
            "tags": []
          },
          "execution_count": 92
        }
      ]
    },
    {
      "cell_type": "code",
      "metadata": {
        "id": "BPh4CCXo5CN3",
        "outputId": "dc5b6f4a-d2c4-4510-f369-54e8d36f7cf6",
        "colab": {
          "base_uri": "https://localhost:8080/",
          "height": 251
        }
      },
      "source": [
        "#dados[provas].query(\"NU_NOTA_TOTAL !=0\")\n",
        "\n",
        "dados_sem_nota_zero = dados.query(\"NU_NOTA_TOTAL !=0\")\n",
        "dados_sem_nota_zero.head()"
      ],
      "execution_count": null,
      "outputs": [
        {
          "output_type": "execute_result",
          "data": {
            "text/html": [
              "<div>\n",
              "<style scoped>\n",
              "    .dataframe tbody tr th:only-of-type {\n",
              "        vertical-align: middle;\n",
              "    }\n",
              "\n",
              "    .dataframe tbody tr th {\n",
              "        vertical-align: top;\n",
              "    }\n",
              "\n",
              "    .dataframe thead th {\n",
              "        text-align: right;\n",
              "    }\n",
              "</style>\n",
              "<table border=\"1\" class=\"dataframe\">\n",
              "  <thead>\n",
              "    <tr style=\"text-align: right;\">\n",
              "      <th></th>\n",
              "      <th>NU_INSCRICAO</th>\n",
              "      <th>NU_ANO</th>\n",
              "      <th>CO_MUNICIPIO_RESIDENCIA</th>\n",
              "      <th>NO_MUNICIPIO_RESIDENCIA</th>\n",
              "      <th>CO_UF_RESIDENCIA</th>\n",
              "      <th>SG_UF_RESIDENCIA</th>\n",
              "      <th>NU_IDADE</th>\n",
              "      <th>TP_SEXO</th>\n",
              "      <th>TP_ESTADO_CIVIL</th>\n",
              "      <th>TP_COR_RACA</th>\n",
              "      <th>TP_NACIONALIDADE</th>\n",
              "      <th>CO_MUNICIPIO_NASCIMENTO</th>\n",
              "      <th>NO_MUNICIPIO_NASCIMENTO</th>\n",
              "      <th>CO_UF_NASCIMENTO</th>\n",
              "      <th>SG_UF_NASCIMENTO</th>\n",
              "      <th>TP_ST_CONCLUSAO</th>\n",
              "      <th>TP_ANO_CONCLUIU</th>\n",
              "      <th>TP_ESCOLA</th>\n",
              "      <th>TP_ENSINO</th>\n",
              "      <th>IN_TREINEIRO</th>\n",
              "      <th>CO_ESCOLA</th>\n",
              "      <th>CO_MUNICIPIO_ESC</th>\n",
              "      <th>NO_MUNICIPIO_ESC</th>\n",
              "      <th>CO_UF_ESC</th>\n",
              "      <th>SG_UF_ESC</th>\n",
              "      <th>TP_DEPENDENCIA_ADM_ESC</th>\n",
              "      <th>TP_LOCALIZACAO_ESC</th>\n",
              "      <th>TP_SIT_FUNC_ESC</th>\n",
              "      <th>IN_BAIXA_VISAO</th>\n",
              "      <th>IN_CEGUEIRA</th>\n",
              "      <th>IN_SURDEZ</th>\n",
              "      <th>IN_DEFICIENCIA_AUDITIVA</th>\n",
              "      <th>IN_SURDO_CEGUEIRA</th>\n",
              "      <th>IN_DEFICIENCIA_FISICA</th>\n",
              "      <th>IN_DEFICIENCIA_MENTAL</th>\n",
              "      <th>IN_DEFICIT_ATENCAO</th>\n",
              "      <th>IN_DISLEXIA</th>\n",
              "      <th>IN_DISCALCULIA</th>\n",
              "      <th>IN_AUTISMO</th>\n",
              "      <th>IN_VISAO_MONOCULAR</th>\n",
              "      <th>...</th>\n",
              "      <th>TX_RESPOSTAS_LC</th>\n",
              "      <th>TX_RESPOSTAS_MT</th>\n",
              "      <th>TP_LINGUA</th>\n",
              "      <th>TX_GABARITO_CN</th>\n",
              "      <th>TX_GABARITO_CH</th>\n",
              "      <th>TX_GABARITO_LC</th>\n",
              "      <th>TX_GABARITO_MT</th>\n",
              "      <th>TP_STATUS_REDACAO</th>\n",
              "      <th>NU_NOTA_COMP1</th>\n",
              "      <th>NU_NOTA_COMP2</th>\n",
              "      <th>NU_NOTA_COMP3</th>\n",
              "      <th>NU_NOTA_COMP4</th>\n",
              "      <th>NU_NOTA_COMP5</th>\n",
              "      <th>NU_NOTA_REDACAO</th>\n",
              "      <th>Q001</th>\n",
              "      <th>Q002</th>\n",
              "      <th>Q003</th>\n",
              "      <th>Q004</th>\n",
              "      <th>Q005</th>\n",
              "      <th>Q006</th>\n",
              "      <th>Q007</th>\n",
              "      <th>Q008</th>\n",
              "      <th>Q009</th>\n",
              "      <th>Q010</th>\n",
              "      <th>Q011</th>\n",
              "      <th>Q012</th>\n",
              "      <th>Q013</th>\n",
              "      <th>Q014</th>\n",
              "      <th>Q015</th>\n",
              "      <th>Q016</th>\n",
              "      <th>Q017</th>\n",
              "      <th>Q018</th>\n",
              "      <th>Q019</th>\n",
              "      <th>Q020</th>\n",
              "      <th>Q021</th>\n",
              "      <th>Q022</th>\n",
              "      <th>Q023</th>\n",
              "      <th>Q024</th>\n",
              "      <th>Q025</th>\n",
              "      <th>NU_NOTA_TOTAL</th>\n",
              "    </tr>\n",
              "  </thead>\n",
              "  <tbody>\n",
              "    <tr>\n",
              "      <th>0</th>\n",
              "      <td>190001004661</td>\n",
              "      <td>2019</td>\n",
              "      <td>1506138</td>\n",
              "      <td>Redenção</td>\n",
              "      <td>15</td>\n",
              "      <td>PA</td>\n",
              "      <td>17</td>\n",
              "      <td>M</td>\n",
              "      <td>1</td>\n",
              "      <td>3</td>\n",
              "      <td>1</td>\n",
              "      <td>1506138.0</td>\n",
              "      <td>Redenção</td>\n",
              "      <td>15.0</td>\n",
              "      <td>PA</td>\n",
              "      <td>3</td>\n",
              "      <td>0</td>\n",
              "      <td>1</td>\n",
              "      <td>NaN</td>\n",
              "      <td>1</td>\n",
              "      <td>NaN</td>\n",
              "      <td>NaN</td>\n",
              "      <td>NaN</td>\n",
              "      <td>NaN</td>\n",
              "      <td>NaN</td>\n",
              "      <td>NaN</td>\n",
              "      <td>NaN</td>\n",
              "      <td>NaN</td>\n",
              "      <td>0</td>\n",
              "      <td>0</td>\n",
              "      <td>0</td>\n",
              "      <td>0</td>\n",
              "      <td>0</td>\n",
              "      <td>0</td>\n",
              "      <td>0</td>\n",
              "      <td>0</td>\n",
              "      <td>0</td>\n",
              "      <td>0</td>\n",
              "      <td>0</td>\n",
              "      <td>0</td>\n",
              "      <td>...</td>\n",
              "      <td>99999CCCABBCAADDBCEBCCADBEEBDECBAABDEACACAEABB...</td>\n",
              "      <td>DEEDCAECDDEEECBCBECABEBAECBBCDAECAEBBBBBDCCDB</td>\n",
              "      <td>1</td>\n",
              "      <td>DEADBAAAEBEECEBCBCBCBDADAEABCEDDDDADCBEECACBC</td>\n",
              "      <td>ACACEEBCCBABADBBBACDBBACCCCADCEBADCBEEDBBEADB</td>\n",
              "      <td>EBBADCABDABACBCEBDEEAAADDBECDECDDBADBCDAAECBCC...</td>\n",
              "      <td>AADDDBEEEBEDDBEBACABCDBABECECACAECDCBDCCEDCDA</td>\n",
              "      <td>1.0</td>\n",
              "      <td>60.0</td>\n",
              "      <td>100.0</td>\n",
              "      <td>80.0</td>\n",
              "      <td>80.0</td>\n",
              "      <td>100.0</td>\n",
              "      <td>420.0</td>\n",
              "      <td>B</td>\n",
              "      <td>B</td>\n",
              "      <td>A</td>\n",
              "      <td>A</td>\n",
              "      <td>4</td>\n",
              "      <td>B</td>\n",
              "      <td>A</td>\n",
              "      <td>C</td>\n",
              "      <td>B</td>\n",
              "      <td>A</td>\n",
              "      <td>C</td>\n",
              "      <td>B</td>\n",
              "      <td>A</td>\n",
              "      <td>A</td>\n",
              "      <td>A</td>\n",
              "      <td>A</td>\n",
              "      <td>A</td>\n",
              "      <td>A</td>\n",
              "      <td>A</td>\n",
              "      <td>B</td>\n",
              "      <td>A</td>\n",
              "      <td>C</td>\n",
              "      <td>A</td>\n",
              "      <td>B</td>\n",
              "      <td>B</td>\n",
              "      <td>2288.9</td>\n",
              "    </tr>\n",
              "    <tr>\n",
              "      <th>1</th>\n",
              "      <td>190001004674</td>\n",
              "      <td>2019</td>\n",
              "      <td>1504208</td>\n",
              "      <td>Marabá</td>\n",
              "      <td>15</td>\n",
              "      <td>PA</td>\n",
              "      <td>23</td>\n",
              "      <td>M</td>\n",
              "      <td>1</td>\n",
              "      <td>3</td>\n",
              "      <td>1</td>\n",
              "      <td>1504208.0</td>\n",
              "      <td>Marabá</td>\n",
              "      <td>15.0</td>\n",
              "      <td>PA</td>\n",
              "      <td>1</td>\n",
              "      <td>3</td>\n",
              "      <td>1</td>\n",
              "      <td>1.0</td>\n",
              "      <td>0</td>\n",
              "      <td>NaN</td>\n",
              "      <td>NaN</td>\n",
              "      <td>NaN</td>\n",
              "      <td>NaN</td>\n",
              "      <td>NaN</td>\n",
              "      <td>NaN</td>\n",
              "      <td>NaN</td>\n",
              "      <td>NaN</td>\n",
              "      <td>0</td>\n",
              "      <td>0</td>\n",
              "      <td>0</td>\n",
              "      <td>0</td>\n",
              "      <td>0</td>\n",
              "      <td>0</td>\n",
              "      <td>0</td>\n",
              "      <td>0</td>\n",
              "      <td>0</td>\n",
              "      <td>0</td>\n",
              "      <td>0</td>\n",
              "      <td>0</td>\n",
              "      <td>...</td>\n",
              "      <td>99999ABCEBCEDDECEEEBBCCEECCABDABEEBCDEAEBBEAEA...</td>\n",
              "      <td>NaN</td>\n",
              "      <td>1</td>\n",
              "      <td>NaN</td>\n",
              "      <td>CBABADBBCEEEBCBADCBEEDBBEADBBACDBBACCCCADACAC</td>\n",
              "      <td>BBEDABDACACBABAECBBCCADCEBDBBCDDEEAAADDBECDECA...</td>\n",
              "      <td>NaN</td>\n",
              "      <td>1.0</td>\n",
              "      <td>80.0</td>\n",
              "      <td>100.0</td>\n",
              "      <td>80.0</td>\n",
              "      <td>80.0</td>\n",
              "      <td>60.0</td>\n",
              "      <td>400.0</td>\n",
              "      <td>C</td>\n",
              "      <td>C</td>\n",
              "      <td>A</td>\n",
              "      <td>A</td>\n",
              "      <td>4</td>\n",
              "      <td>B</td>\n",
              "      <td>A</td>\n",
              "      <td>B</td>\n",
              "      <td>C</td>\n",
              "      <td>A</td>\n",
              "      <td>A</td>\n",
              "      <td>B</td>\n",
              "      <td>B</td>\n",
              "      <td>B</td>\n",
              "      <td>A</td>\n",
              "      <td>A</td>\n",
              "      <td>A</td>\n",
              "      <td>A</td>\n",
              "      <td>B</td>\n",
              "      <td>A</td>\n",
              "      <td>A</td>\n",
              "      <td>B</td>\n",
              "      <td>A</td>\n",
              "      <td>A</td>\n",
              "      <td>B</td>\n",
              "      <td>1184.6</td>\n",
              "    </tr>\n",
              "    <tr>\n",
              "      <th>2</th>\n",
              "      <td>190001004722</td>\n",
              "      <td>2019</td>\n",
              "      <td>1501402</td>\n",
              "      <td>Belém</td>\n",
              "      <td>15</td>\n",
              "      <td>PA</td>\n",
              "      <td>35</td>\n",
              "      <td>F</td>\n",
              "      <td>2</td>\n",
              "      <td>1</td>\n",
              "      <td>1</td>\n",
              "      <td>1501402.0</td>\n",
              "      <td>Belém</td>\n",
              "      <td>15.0</td>\n",
              "      <td>PA</td>\n",
              "      <td>1</td>\n",
              "      <td>12</td>\n",
              "      <td>1</td>\n",
              "      <td>1.0</td>\n",
              "      <td>0</td>\n",
              "      <td>NaN</td>\n",
              "      <td>NaN</td>\n",
              "      <td>NaN</td>\n",
              "      <td>NaN</td>\n",
              "      <td>NaN</td>\n",
              "      <td>NaN</td>\n",
              "      <td>NaN</td>\n",
              "      <td>NaN</td>\n",
              "      <td>0</td>\n",
              "      <td>0</td>\n",
              "      <td>0</td>\n",
              "      <td>0</td>\n",
              "      <td>0</td>\n",
              "      <td>0</td>\n",
              "      <td>0</td>\n",
              "      <td>0</td>\n",
              "      <td>0</td>\n",
              "      <td>0</td>\n",
              "      <td>0</td>\n",
              "      <td>0</td>\n",
              "      <td>...</td>\n",
              "      <td>99999ECBCECEBBABECCCECECCEECCDECEEEDADDDDECEDD...</td>\n",
              "      <td>DDBEADEBBCADCEEACABECBCEBADECADCEDAACBDABABCE</td>\n",
              "      <td>1</td>\n",
              "      <td>AAECACDEADCBCDDDBCBDADAEABCEBABEEBCBEECEBDADC</td>\n",
              "      <td>CBABADBBCEEEBCBADCBEEDBBEADBBACDBBACCCCADACAC</td>\n",
              "      <td>BBEDABDACACBABAECBBCCADCEBDBBCDDEEAAADDBECDECA...</td>\n",
              "      <td>EEEADBEBACABCDBABECECACDCBDCCEDCDABEDECDDDBAA</td>\n",
              "      <td>1.0</td>\n",
              "      <td>100.0</td>\n",
              "      <td>120.0</td>\n",
              "      <td>120.0</td>\n",
              "      <td>100.0</td>\n",
              "      <td>120.0</td>\n",
              "      <td>560.0</td>\n",
              "      <td>C</td>\n",
              "      <td>A</td>\n",
              "      <td>B</td>\n",
              "      <td>B</td>\n",
              "      <td>5</td>\n",
              "      <td>C</td>\n",
              "      <td>A</td>\n",
              "      <td>B</td>\n",
              "      <td>C</td>\n",
              "      <td>A</td>\n",
              "      <td>A</td>\n",
              "      <td>B</td>\n",
              "      <td>A</td>\n",
              "      <td>B</td>\n",
              "      <td>A</td>\n",
              "      <td>A</td>\n",
              "      <td>A</td>\n",
              "      <td>A</td>\n",
              "      <td>B</td>\n",
              "      <td>A</td>\n",
              "      <td>B</td>\n",
              "      <td>B</td>\n",
              "      <td>A</td>\n",
              "      <td>A</td>\n",
              "      <td>B</td>\n",
              "      <td>2350.5</td>\n",
              "    </tr>\n",
              "    <tr>\n",
              "      <th>3</th>\n",
              "      <td>190001004735</td>\n",
              "      <td>2019</td>\n",
              "      <td>1507300</td>\n",
              "      <td>São Félix do Xingu</td>\n",
              "      <td>15</td>\n",
              "      <td>PA</td>\n",
              "      <td>23</td>\n",
              "      <td>F</td>\n",
              "      <td>1</td>\n",
              "      <td>3</td>\n",
              "      <td>1</td>\n",
              "      <td>1505437.0</td>\n",
              "      <td>Ourilândia do Norte</td>\n",
              "      <td>15.0</td>\n",
              "      <td>PA</td>\n",
              "      <td>1</td>\n",
              "      <td>7</td>\n",
              "      <td>1</td>\n",
              "      <td>NaN</td>\n",
              "      <td>0</td>\n",
              "      <td>NaN</td>\n",
              "      <td>NaN</td>\n",
              "      <td>NaN</td>\n",
              "      <td>NaN</td>\n",
              "      <td>NaN</td>\n",
              "      <td>NaN</td>\n",
              "      <td>NaN</td>\n",
              "      <td>NaN</td>\n",
              "      <td>0</td>\n",
              "      <td>0</td>\n",
              "      <td>0</td>\n",
              "      <td>0</td>\n",
              "      <td>0</td>\n",
              "      <td>0</td>\n",
              "      <td>0</td>\n",
              "      <td>0</td>\n",
              "      <td>0</td>\n",
              "      <td>0</td>\n",
              "      <td>0</td>\n",
              "      <td>0</td>\n",
              "      <td>...</td>\n",
              "      <td>99999BABCDABBCBDDAAECADBDDADDCBCEEDCAEBCEAEABD...</td>\n",
              "      <td>CBDEBBCBDEBCABCDBDEDADCCBEDBCAECEBEBDEBAEECBC</td>\n",
              "      <td>1</td>\n",
              "      <td>BEEAAEBEEBADEADDADAEABCEDDDBCBCBCCACBCDADCCEB</td>\n",
              "      <td>EEBCEEDBADBBCBABCCADCEBACDBBACCACACBEADBBADCB</td>\n",
              "      <td>ADBBEDCABAABBCBCDAAECDDDBAAAECADECDCEBDEEAECBD...</td>\n",
              "      <td>BEDEEEAADBEBACABCDBABECECACADCBDCCEDCDABECDDD</td>\n",
              "      <td>1.0</td>\n",
              "      <td>100.0</td>\n",
              "      <td>120.0</td>\n",
              "      <td>120.0</td>\n",
              "      <td>120.0</td>\n",
              "      <td>40.0</td>\n",
              "      <td>500.0</td>\n",
              "      <td>E</td>\n",
              "      <td>C</td>\n",
              "      <td>A</td>\n",
              "      <td>A</td>\n",
              "      <td>1</td>\n",
              "      <td>B</td>\n",
              "      <td>A</td>\n",
              "      <td>B</td>\n",
              "      <td>C</td>\n",
              "      <td>A</td>\n",
              "      <td>A</td>\n",
              "      <td>B</td>\n",
              "      <td>A</td>\n",
              "      <td>A</td>\n",
              "      <td>A</td>\n",
              "      <td>A</td>\n",
              "      <td>A</td>\n",
              "      <td>A</td>\n",
              "      <td>B</td>\n",
              "      <td>A</td>\n",
              "      <td>A</td>\n",
              "      <td>B</td>\n",
              "      <td>A</td>\n",
              "      <td>A</td>\n",
              "      <td>B</td>\n",
              "      <td>2555.7</td>\n",
              "    </tr>\n",
              "    <tr>\n",
              "      <th>4</th>\n",
              "      <td>190001004776</td>\n",
              "      <td>2019</td>\n",
              "      <td>1500800</td>\n",
              "      <td>Ananindeua</td>\n",
              "      <td>15</td>\n",
              "      <td>PA</td>\n",
              "      <td>16</td>\n",
              "      <td>F</td>\n",
              "      <td>1</td>\n",
              "      <td>3</td>\n",
              "      <td>1</td>\n",
              "      <td>1500800.0</td>\n",
              "      <td>Ananindeua</td>\n",
              "      <td>15.0</td>\n",
              "      <td>PA</td>\n",
              "      <td>3</td>\n",
              "      <td>0</td>\n",
              "      <td>1</td>\n",
              "      <td>NaN</td>\n",
              "      <td>1</td>\n",
              "      <td>NaN</td>\n",
              "      <td>NaN</td>\n",
              "      <td>NaN</td>\n",
              "      <td>NaN</td>\n",
              "      <td>NaN</td>\n",
              "      <td>NaN</td>\n",
              "      <td>NaN</td>\n",
              "      <td>NaN</td>\n",
              "      <td>0</td>\n",
              "      <td>0</td>\n",
              "      <td>0</td>\n",
              "      <td>0</td>\n",
              "      <td>0</td>\n",
              "      <td>0</td>\n",
              "      <td>0</td>\n",
              "      <td>0</td>\n",
              "      <td>0</td>\n",
              "      <td>0</td>\n",
              "      <td>0</td>\n",
              "      <td>0</td>\n",
              "      <td>...</td>\n",
              "      <td>EBCAB99999BBCECBCACBEACBDAABDBCBBDACEBBACDCAEC...</td>\n",
              "      <td>AECCBBCBBCBDEDECACBAABEDABBEDDADCEADDBEBDBBEB</td>\n",
              "      <td>0</td>\n",
              "      <td>DEADBAAAEBEECEBCBCBCBDADAEABCEDDDDADCBEECACBC</td>\n",
              "      <td>ACACEEBCCBABADBBBACDBBACCCCADCEBADCBEEDBBEADB</td>\n",
              "      <td>EBBADCABDABACBCEBDEEAAADDBECDECDDBADBCDAAECBCC...</td>\n",
              "      <td>AADDDBEEEBEDDBEBACABCDBABECECACAECDCBDCCEDCDA</td>\n",
              "      <td>1.0</td>\n",
              "      <td>160.0</td>\n",
              "      <td>140.0</td>\n",
              "      <td>160.0</td>\n",
              "      <td>160.0</td>\n",
              "      <td>160.0</td>\n",
              "      <td>780.0</td>\n",
              "      <td>E</td>\n",
              "      <td>E</td>\n",
              "      <td>B</td>\n",
              "      <td>D</td>\n",
              "      <td>3</td>\n",
              "      <td>E</td>\n",
              "      <td>A</td>\n",
              "      <td>B</td>\n",
              "      <td>C</td>\n",
              "      <td>B</td>\n",
              "      <td>A</td>\n",
              "      <td>B</td>\n",
              "      <td>A</td>\n",
              "      <td>A</td>\n",
              "      <td>A</td>\n",
              "      <td>A</td>\n",
              "      <td>A</td>\n",
              "      <td>A</td>\n",
              "      <td>B</td>\n",
              "      <td>A</td>\n",
              "      <td>A</td>\n",
              "      <td>D</td>\n",
              "      <td>A</td>\n",
              "      <td>A</td>\n",
              "      <td>B</td>\n",
              "      <td>2803.5</td>\n",
              "    </tr>\n",
              "  </tbody>\n",
              "</table>\n",
              "<p>5 rows × 137 columns</p>\n",
              "</div>"
            ],
            "text/plain": [
              "   NU_INSCRICAO  NU_ANO  CO_MUNICIPIO_RESIDENCIA  ... Q024  Q025 NU_NOTA_TOTAL\n",
              "0  190001004661    2019                  1506138  ...    B     B        2288.9\n",
              "1  190001004674    2019                  1504208  ...    A     B        1184.6\n",
              "2  190001004722    2019                  1501402  ...    A     B        2350.5\n",
              "3  190001004735    2019                  1507300  ...    A     B        2555.7\n",
              "4  190001004776    2019                  1500800  ...    A     B        2803.5\n",
              "\n",
              "[5 rows x 137 columns]"
            ]
          },
          "metadata": {
            "tags": []
          },
          "execution_count": 98
        }
      ]
    },
    {
      "cell_type": "code",
      "metadata": {
        "id": "yHISvbR66TFI",
        "outputId": "dec0fa47-2ade-4922-dedc-91a100607878",
        "colab": {
          "base_uri": "https://localhost:8080/",
          "height": 531
        }
      },
      "source": [
        "plt.figure(figsize = (10,8)) \n",
        "sns.boxplot(x=\"Q006\", y = \"NU_NOTA_TOTAL\", data = dados_sem_nota_zero, order =renda_ordenada )\n",
        "plt.title(\"Boxplot das notas somadas - sem zero\")   \n"
      ],
      "execution_count": null,
      "outputs": [
        {
          "output_type": "execute_result",
          "data": {
            "text/plain": [
              "Text(0.5, 1.0, 'Boxplot das notas somadas - sem zero')"
            ]
          },
          "metadata": {
            "tags": []
          },
          "execution_count": 99
        },
        {
          "output_type": "display_data",
          "data": {
            "image/png": "[encoded data removed]",
            "text/plain": [
              "<Figure size 720x576 with 1 Axes>"
            ]
          },
          "metadata": {
            "tags": [],
            "needs_background": "light"
          }
        }
      ]
    },
    {
      "cell_type": "code",
      "metadata": {
        "id": "0uljNcMh7Fua",
        "outputId": "78cbeb82-8f29-4a7f-9b30-4777c74e2534",
        "colab": {
          "base_uri": "https://localhost:8080/",
          "height": 531
        }
      },
      "source": [
        "plt.figure(figsize = (10,8)) \n",
        "sns.boxplot(x=\"Q006\", \n",
        "            y = \"NU_NOTA_TOTAL\", \n",
        "            data = dados_sem_nota_zero, \n",
        "            hue = \"IN_TREINEIRO\", \n",
        "            order =renda_ordenada )\n",
        "plt.title(\"Boxplot das notas somadas - sem zero\")   \n"
      ],
      "execution_count": null,
      "outputs": [
        {
          "output_type": "execute_result",
          "data": {
            "text/plain": [
              "Text(0.5, 1.0, 'Boxplot das notas somadas - sem zero')"
            ]
          },
          "metadata": {
            "tags": []
          },
          "execution_count": 101
        },
        {
          "output_type": "display_data",
          "data": {
            "image/png": "[encoded data removed]",
            "text/plain": [
              "<Figure size 720x576 with 1 Axes>"
            ]
          },
          "metadata": {
            "tags": [],
            "needs_background": "light"
          }
        }
      ]
    },
    {
      "cell_type": "markdown",
      "metadata": {
        "id": "8gXMMeVo-Ax3"
      },
      "source": [
        "MEGA DESAFIO DA THAINÁ: Pegar a amostra completa dos alunos de 13 e 14 anos\n",
        "\n",
        "Desafio do Gui bonzinho: aumentar a amostra para alunos menor de idade e compara a proporção por estado.\n",
        "\n",
        "Desafio 3: Criar uma função para plotar o boxplot do seaborn\n",
        "\n",
        "Desafio 4: Verificar se quem zerou a prova foi eliminado ou não estava presente\n",
        "\n",
        "Desafio 5: Quem é eliminado tira zero ou será NaN (não teve registro de notas)\n",
        "\n",
        "Desafio 6: Verificar a proporção dos participantes de rendas mais altas e mais baixas como treineiro e não treineiro.\n",
        "\n",
        "Desafio 7: Fazer o mesmo boxplot olhando para a questão 25 (tem internet ou não) e fazer uma reflexão sobre o assunto e o contexto de pandemia."
      ]
    },
    {
      "cell_type": "markdown",
      "metadata": {
        "id": "fmOy2ASS-UXL"
      },
      "source": [
        "MEGA DESAFIO DA THAINÁ: Pegar a amostra completa dos alunos de 13 e 14 anos\n"
      ]
    },
    {
      "cell_type": "code",
      "metadata": {
        "id": "mjasb2l2-SKS"
      },
      "source": [
        ""
      ],
      "execution_count": null,
      "outputs": []
    },
    {
      "cell_type": "markdown",
      "metadata": {
        "id": "06Sd8zJL-V_8"
      },
      "source": [
        "Desafio do Gui bonzinho: aumentar a amostra para alunos menor de idade e compara a proporção por estado.\n"
      ]
    },
    {
      "cell_type": "code",
      "metadata": {
        "id": "MhEO69G_-pII"
      },
      "source": [
        ""
      ],
      "execution_count": null,
      "outputs": []
    },
    {
      "cell_type": "markdown",
      "metadata": {
        "id": "8VEhrFID-WLt"
      },
      "source": [
        "Desafio 3: Criar uma função para plotar o boxplot do seaborn\n"
      ]
    },
    {
      "cell_type": "code",
      "metadata": {
        "id": "r5jsDI2D-p1z"
      },
      "source": [
        ""
      ],
      "execution_count": null,
      "outputs": []
    },
    {
      "cell_type": "markdown",
      "metadata": {
        "id": "OLuCAbxo-WWi"
      },
      "source": [
        "Desafio 4: Verificar se quem zerou a prova foi eliminado ou não estava presente"
      ]
    },
    {
      "cell_type": "code",
      "metadata": {
        "id": "WkLUJpPl-qhK"
      },
      "source": [
        ""
      ],
      "execution_count": null,
      "outputs": []
    },
    {
      "cell_type": "markdown",
      "metadata": {
        "id": "V_nvc2qz-Wd1"
      },
      "source": [
        "Desafio 5: Quem é eliminado tira zero ou será NaN (não teve registro de notas)"
      ]
    },
    {
      "cell_type": "code",
      "metadata": {
        "id": "Jcp1VaXE-rF-"
      },
      "source": [
        ""
      ],
      "execution_count": null,
      "outputs": []
    },
    {
      "cell_type": "markdown",
      "metadata": {
        "id": "t4oib34o-WnH"
      },
      "source": [
        "\n",
        "Desafio 6: Verificar a proporção dos participantes de rendas mais altas e mais baixas como treineiro e não treineiro."
      ]
    },
    {
      "cell_type": "code",
      "metadata": {
        "id": "isVFQHW1-rpg"
      },
      "source": [
        ""
      ],
      "execution_count": null,
      "outputs": []
    },
    {
      "cell_type": "markdown",
      "metadata": {
        "id": "7Rr9e1jK-Wux"
      },
      "source": [
        "Desafio 7: Fazer o mesmo boxplot olhando para a questão 25 (tem internet ou não) e fazer uma reflexão sobre o assunto e o contexto de pandemia."
      ]
    },
    {
      "cell_type": "code",
      "metadata": {
        "id": "sULQlMtb-sMj"
      },
      "source": [
        ""
      ],
      "execution_count": null,
      "outputs": []
    }
  ]
}